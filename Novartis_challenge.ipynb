{
 "cells": [
  {
   "cell_type": "markdown",
   "metadata": {},
   "source": [
    "## OBJECTIVE: ##\n",
    "    Given a set of anonymized categorical variables, come up with a predective model to figure a server will be hacked or not.\n",
    "    "
   ]
  },
  {
   "cell_type": "code",
   "execution_count": 412,
   "metadata": {},
   "outputs": [],
   "source": [
    "import pandas as pd\n",
    "from sklearn.tree import DecisionTreeClassifier\n",
    "from sklearn.ensemble import RandomForestClassifier\n",
    "import xgboost as xgb\n",
    "from xgboost.sklearn import XGBClassifier\n",
    "from sklearn.preprocessing import StandardScaler\n",
    "from scipy.sparse import csr_matrix\n",
    "from scipy import sparse\n",
    "from sklearn import metrics\n",
    "from sklearn import preprocessing\n",
    "from sklearn.metrics import recall_score\n",
    "import matplotlib.pyplot as plt\n",
    "import seaborn as sns\n",
    "import os\n",
    "import time\n",
    "import warnings\n",
    "import numpy as np\n",
    "from sklearn.metrics import confusion_matrix\n",
    "from datetime import datetime\n",
    "from sklearn.model_selection import train_test_split\n",
    "from scipy.sparse import hstack\n",
    "from sklearn.feature_extraction.text import CountVectorizer\n",
    "from sklearn.preprocessing import OneHotEncoder\n",
    "from sklearn.preprocessing import StandardScaler\n",
    "from sklearn.model_selection import GridSearchCV\n",
    "from sklearn.model_selection import RandomizedSearchCV\n",
    "from sklearn.naive_bayes import MultinomialNB\n",
    "from sklearn.metrics import precision_score\n",
    "from sklearn.metrics import f1_score\n",
    "from sklearn.metrics import recall_score\n",
    "from sklearn.neighbors import KNeighborsClassifier\n",
    "from sklearn.linear_model import LogisticRegression\n",
    "from sklearn.linear_model import SGDClassifier\n",
    "from sklearn.metrics import roc_curve\n",
    "from sklearn.metrics import roc_auc_score\n",
    "import scipy.stats as st\n",
    "\n",
    "from sklearn.tree import DecisionTreeClassifier\n",
    "from sklearn.ensemble import RandomForestClassifier\n",
    "import xgboost as xgb\n",
    "from xgboost.sklearn import XGBClassifier\n",
    "\n",
    "warnings.filterwarnings(\"ignore\")"
   ]
  },
  {
   "cell_type": "code",
   "execution_count": 28,
   "metadata": {},
   "outputs": [
    {
     "name": "stdout",
     "output_type": "stream",
     "text": [
      "C:\\Users\\rahul\\Desktop\\Novartis Challenge\n"
     ]
    }
   ],
   "source": [
    "import os\n",
    "cwd = os.getcwd()\n",
    "print(cwd)"
   ]
  },
  {
   "cell_type": "markdown",
   "metadata": {},
   "source": [
    "## Exploratory Data Analysis: ##"
   ]
  },
  {
   "cell_type": "code",
   "execution_count": 241,
   "metadata": {},
   "outputs": [
    {
     "data": {
      "text/html": [
       "<div>\n",
       "<style scoped>\n",
       "    .dataframe tbody tr th:only-of-type {\n",
       "        vertical-align: middle;\n",
       "    }\n",
       "\n",
       "    .dataframe tbody tr th {\n",
       "        vertical-align: top;\n",
       "    }\n",
       "\n",
       "    .dataframe thead th {\n",
       "        text-align: right;\n",
       "    }\n",
       "</style>\n",
       "<table border=\"1\" class=\"dataframe\">\n",
       "  <thead>\n",
       "    <tr style=\"text-align: right;\">\n",
       "      <th></th>\n",
       "      <th>INCIDENT_ID</th>\n",
       "      <th>DATE</th>\n",
       "      <th>X_1</th>\n",
       "      <th>X_2</th>\n",
       "      <th>X_3</th>\n",
       "      <th>X_4</th>\n",
       "      <th>X_5</th>\n",
       "      <th>X_6</th>\n",
       "      <th>X_7</th>\n",
       "      <th>X_8</th>\n",
       "      <th>X_9</th>\n",
       "      <th>X_10</th>\n",
       "      <th>X_11</th>\n",
       "      <th>X_12</th>\n",
       "      <th>X_13</th>\n",
       "      <th>X_14</th>\n",
       "      <th>X_15</th>\n",
       "      <th>MULTIPLE_OFFENSE</th>\n",
       "    </tr>\n",
       "  </thead>\n",
       "  <tbody>\n",
       "    <tr>\n",
       "      <th>0</th>\n",
       "      <td>CR_102659</td>\n",
       "      <td>04-JUL-04</td>\n",
       "      <td>0</td>\n",
       "      <td>36</td>\n",
       "      <td>34</td>\n",
       "      <td>2</td>\n",
       "      <td>1</td>\n",
       "      <td>5</td>\n",
       "      <td>6</td>\n",
       "      <td>1</td>\n",
       "      <td>6</td>\n",
       "      <td>1</td>\n",
       "      <td>174</td>\n",
       "      <td>1.0</td>\n",
       "      <td>92</td>\n",
       "      <td>29</td>\n",
       "      <td>36</td>\n",
       "      <td>0</td>\n",
       "    </tr>\n",
       "    <tr>\n",
       "      <th>1</th>\n",
       "      <td>CR_189752</td>\n",
       "      <td>18-JUL-17</td>\n",
       "      <td>1</td>\n",
       "      <td>37</td>\n",
       "      <td>37</td>\n",
       "      <td>0</td>\n",
       "      <td>0</td>\n",
       "      <td>11</td>\n",
       "      <td>17</td>\n",
       "      <td>1</td>\n",
       "      <td>6</td>\n",
       "      <td>1</td>\n",
       "      <td>236</td>\n",
       "      <td>1.0</td>\n",
       "      <td>103</td>\n",
       "      <td>142</td>\n",
       "      <td>34</td>\n",
       "      <td>1</td>\n",
       "    </tr>\n",
       "    <tr>\n",
       "      <th>2</th>\n",
       "      <td>CR_184637</td>\n",
       "      <td>15-MAR-17</td>\n",
       "      <td>0</td>\n",
       "      <td>3</td>\n",
       "      <td>2</td>\n",
       "      <td>3</td>\n",
       "      <td>5</td>\n",
       "      <td>1</td>\n",
       "      <td>0</td>\n",
       "      <td>2</td>\n",
       "      <td>3</td>\n",
       "      <td>1</td>\n",
       "      <td>174</td>\n",
       "      <td>1.0</td>\n",
       "      <td>110</td>\n",
       "      <td>93</td>\n",
       "      <td>34</td>\n",
       "      <td>1</td>\n",
       "    </tr>\n",
       "    <tr>\n",
       "      <th>3</th>\n",
       "      <td>CR_139071</td>\n",
       "      <td>13-FEB-09</td>\n",
       "      <td>0</td>\n",
       "      <td>33</td>\n",
       "      <td>32</td>\n",
       "      <td>2</td>\n",
       "      <td>1</td>\n",
       "      <td>7</td>\n",
       "      <td>1</td>\n",
       "      <td>1</td>\n",
       "      <td>6</td>\n",
       "      <td>1</td>\n",
       "      <td>249</td>\n",
       "      <td>1.0</td>\n",
       "      <td>72</td>\n",
       "      <td>29</td>\n",
       "      <td>34</td>\n",
       "      <td>1</td>\n",
       "    </tr>\n",
       "    <tr>\n",
       "      <th>4</th>\n",
       "      <td>CR_109335</td>\n",
       "      <td>13-APR-05</td>\n",
       "      <td>0</td>\n",
       "      <td>33</td>\n",
       "      <td>32</td>\n",
       "      <td>2</td>\n",
       "      <td>1</td>\n",
       "      <td>8</td>\n",
       "      <td>3</td>\n",
       "      <td>0</td>\n",
       "      <td>5</td>\n",
       "      <td>1</td>\n",
       "      <td>174</td>\n",
       "      <td>0.0</td>\n",
       "      <td>112</td>\n",
       "      <td>29</td>\n",
       "      <td>43</td>\n",
       "      <td>1</td>\n",
       "    </tr>\n",
       "  </tbody>\n",
       "</table>\n",
       "</div>"
      ],
      "text/plain": [
       "  INCIDENT_ID       DATE  X_1  X_2  X_3  X_4  X_5  X_6  X_7  X_8  X_9  X_10  \\\n",
       "0   CR_102659  04-JUL-04    0   36   34    2    1    5    6    1    6     1   \n",
       "1   CR_189752  18-JUL-17    1   37   37    0    0   11   17    1    6     1   \n",
       "2   CR_184637  15-MAR-17    0    3    2    3    5    1    0    2    3     1   \n",
       "3   CR_139071  13-FEB-09    0   33   32    2    1    7    1    1    6     1   \n",
       "4   CR_109335  13-APR-05    0   33   32    2    1    8    3    0    5     1   \n",
       "\n",
       "   X_11  X_12  X_13  X_14  X_15  MULTIPLE_OFFENSE  \n",
       "0   174   1.0    92    29    36                 0  \n",
       "1   236   1.0   103   142    34                 1  \n",
       "2   174   1.0   110    93    34                 1  \n",
       "3   249   1.0    72    29    34                 1  \n",
       "4   174   0.0   112    29    43                 1  "
      ]
     },
     "execution_count": 241,
     "metadata": {},
     "output_type": "execute_result"
    }
   ],
   "source": [
    "#C:\\Users\\rahul\\Desktop\\Novartis Challenge\\Dataset\n",
    "data = pd.read_csv('C:\\\\Users\\\\rahul\\\\Desktop\\\\Novartis Challenge\\\\Dataset\\\\Train.csv',encoding='utf-8')\n",
    "data.head()"
   ]
  },
  {
   "cell_type": "code",
   "execution_count": 242,
   "metadata": {},
   "outputs": [
    {
     "data": {
      "text/plain": [
       "<bound method NDFrame.describe of       INCIDENT_ID       DATE  X_1  X_2  X_3  X_4  X_5  X_6  X_7  X_8  X_9  \\\n",
       "0       CR_102659  04-JUL-04    0   36   34    2    1    5    6    1    6   \n",
       "1       CR_189752  18-JUL-17    1   37   37    0    0   11   17    1    6   \n",
       "2       CR_184637  15-MAR-17    0    3    2    3    5    1    0    2    3   \n",
       "3       CR_139071  13-FEB-09    0   33   32    2    1    7    1    1    6   \n",
       "4       CR_109335  13-APR-05    0   33   32    2    1    8    3    0    5   \n",
       "...           ...        ...  ...  ...  ...  ...  ...  ...  ...  ...  ...   \n",
       "23851    CR_88991  11-JAN-02    1   47   48    7    3   15   10    1    5   \n",
       "23852    CR_46369  05-FEB-97    0   33   32    2    1    5    6    0    5   \n",
       "23853   CR_157556  03-APR-12    0   25   25    9    0    3    5    1    6   \n",
       "23854   CR_103180  25-JAN-04    0   39   39    6    5    2    7    1    6   \n",
       "23855    CR_22575  08-NOV-94    7   36   34    2    1    9    8    0    5   \n",
       "\n",
       "       X_10  X_11  X_12  X_13  X_14  X_15  MULTIPLE_OFFENSE  \n",
       "0         1   174   1.0    92    29    36                 0  \n",
       "1         1   236   1.0   103   142    34                 1  \n",
       "2         1   174   1.0   110    93    34                 1  \n",
       "3         1   249   1.0    72    29    34                 1  \n",
       "4         1   174   0.0   112    29    43                 1  \n",
       "...     ...   ...   ...   ...   ...   ...               ...  \n",
       "23851     1   174   0.0    98    29    34                 1  \n",
       "23852     1   174   0.0   112    29    43                 1  \n",
       "23853     1   174   0.0    10    29    18                 1  \n",
       "23854     1   127   0.0   112   103    43                 1  \n",
       "23855     1   249   1.0    92    29    34                 1  \n",
       "\n",
       "[23856 rows x 18 columns]>"
      ]
     },
     "execution_count": 242,
     "metadata": {},
     "output_type": "execute_result"
    }
   ],
   "source": [
    "data.describe"
   ]
  },
  {
   "cell_type": "code",
   "execution_count": 243,
   "metadata": {},
   "outputs": [
    {
     "name": "stdout",
     "output_type": "stream",
     "text": [
      "INCIDENT_ID         23856\n",
      "DATE                 9121\n",
      "X_1                     8\n",
      "X_2                    52\n",
      "X_3                    52\n",
      "X_4                    10\n",
      "X_5                     5\n",
      "X_6                    19\n",
      "X_7                    19\n",
      "X_8                    24\n",
      "X_9                     7\n",
      "X_10                   24\n",
      "X_11                  133\n",
      "X_12                   23\n",
      "X_13                   60\n",
      "X_14                   62\n",
      "X_15                   28\n",
      "MULTIPLE_OFFENSE        2\n",
      "dtype: int64\n"
     ]
    }
   ],
   "source": [
    "#Find unique values across each column\n",
    "print (data.apply(lambda x: x.nunique()))"
   ]
  },
  {
   "cell_type": "code",
   "execution_count": 244,
   "metadata": {},
   "outputs": [
    {
     "name": "stdout",
     "output_type": "stream",
     "text": [
      "The number of data points in each class are:  1    22788\n",
      "0     1068\n",
      "Name: MULTIPLE_OFFENSE, dtype: int64\n"
     ]
    }
   ],
   "source": [
    "#Check the values in each class\n",
    "print(\"The number of data points in each class are: \",data['MULTIPLE_OFFENSE'].value_counts())"
   ]
  },
  {
   "cell_type": "code",
   "execution_count": 245,
   "metadata": {},
   "outputs": [
    {
     "data": {
      "image/png": "[encoded data removed]",
      "text/plain": [
       "<Figure size 432x288 with 1 Axes>"
      ]
     },
     "metadata": {},
     "output_type": "display_data"
    },
    {
     "name": "stdout",
     "output_type": "stream",
     "text": [
      "Number of data points in class 2 : 22788 ( 95.523 %)\n",
      "Number of data points in class 1 : 1068 ( 4.477 %)\n"
     ]
    }
   ],
   "source": [
    "#It can be seen that the dataset is extremely imbalanced\n",
    "\n",
    "class_distribution = data['MULTIPLE_OFFENSE'].value_counts().sort_index()\n",
    "\n",
    "my_colors = ['r','g']\n",
    "class_distribution.plot(kind='bar',color=my_colors)\n",
    "plt.xlabel('Class')\n",
    "plt.ylabel('Data points per Class')\n",
    "plt.title('Distribution of yi in train data')\n",
    "plt.grid()\n",
    "plt.show()\n",
    "\n",
    "# ref: argsort https://docs.scipy.org/doc/numpy/reference/generated/numpy.argsort.html\n",
    "# -(train_class_distribution.values): the minus sign will give us in decreasing order\n",
    "sorted_yi = np.argsort(-class_distribution.values)\n",
    "for i in sorted_yi:\n",
    "    print('Number of data points in class', i+1, ':',class_distribution.values[i], '(', np.round((class_distribution.values[i]/data.shape[0]*100), 3), '%)')\n"
   ]
  },
  {
   "cell_type": "code",
   "execution_count": 289,
   "metadata": {},
   "outputs": [],
   "source": [
    "# This function plots the confusion matrices given y_i, y_i_hat.\n",
    "def plot_confusion_matrix(test_y, predict_y):\n",
    "    C = confusion_matrix(test_y, predict_y)\n",
    "    A =(((C.T)/(C.sum(axis=1))).T)\n",
    "\n",
    "    \n",
    "    B =(C/C.sum(axis=0))\n",
    "    \n",
    "    labels = [0,1]\n",
    "    plt.figure(figsize=(20,4))\n",
    "    cmap=sns.light_palette(\"blue\")\n",
    "    # representing A in heatmap format\n",
    "    plt.subplot(1, 3, 1)\n",
    "    sns.heatmap(C, annot=True, cmap=cmap, fmt=\".3f\", xticklabels=labels, yticklabels=labels)\n",
    "    plt.xlabel('Predicted Class')\n",
    "    plt.ylabel('Original Class')\n",
    "    plt.title(\"Confusion matrix\")\n",
    "\n",
    "    plt.subplot(1, 3, 2)\n",
    "    sns.heatmap(B, annot=True, cmap=cmap, fmt=\".3f\", xticklabels=labels, yticklabels=labels)\n",
    "    plt.xlabel('Predicted Class')\n",
    "    plt.ylabel('Original Class')\n",
    "    plt.title(\"Precision matrix\")\n",
    "    \n",
    "    plt.subplot(1, 3, 3)\n",
    "    sns.heatmap(A, annot=True, cmap=cmap, fmt=\".3f\", xticklabels=labels, yticklabels=labels)\n",
    "    plt.xlabel('Predicted Class')\n",
    "    plt.ylabel('Original Class')\n",
    "    plt.title(\"Recall matrix\")\n",
    "    plt.show()"
   ]
  },
  {
   "cell_type": "markdown",
   "metadata": {},
   "source": [
    "## Time based slicing and Featurizations(Response coding) :"
   ]
  },
  {
   "cell_type": "code",
   "execution_count": 247,
   "metadata": {},
   "outputs": [
    {
     "name": "stdout",
     "output_type": "stream",
     "text": [
      "23856\n",
      "['04-07-04', '18-07-17', '15-03-17', '13-02-09', '13-04-05', '07-04-03', '22-01-08', '14-05-93', '21-08-16', '25-08-96']\n",
      "23856\n"
     ]
    }
   ],
   "source": [
    "#perform time based slice as date column is available\n",
    "months = {'JAN': '01','FEB': '02','MAR': '03','APR': '04','MAY': '05','JUN': '06','JUL': '07','AUG': '08','SEP': '09','OCT': '10','NOV': '11','DEC': '12'}\n",
    "dates = data['DATE'].values.tolist()\n",
    "for date in dates:\n",
    "    date.upper()\n",
    "\n",
    "print(len(dates))\n",
    "\n",
    "conv_dates = []\n",
    "for date in dates:\n",
    "    for month in months:\n",
    "        if month in date:\n",
    "            conv_date = date.replace(month, months[month])\n",
    "            conv_dates.append(conv_date)\n",
    "print(conv_dates[:10])\n",
    "\n",
    "print(len(conv_dates))"
   ]
  },
  {
   "cell_type": "code",
   "execution_count": 248,
   "metadata": {},
   "outputs": [
    {
     "name": "stdout",
     "output_type": "stream",
     "text": [
      "['04-07-2004', '18-07-2017', '15-03-2017', '13-02-2009', '13-04-2005', '07-04-2003', '22-01-2008', '14-05-1993', '21-08-2016', '25-08-1996']\n",
      "23856\n"
     ]
    }
   ],
   "source": [
    "# convert any year further than current year to 20th century as no servers existed before that\n",
    "# a ='rahul'\n",
    "# print(a[-2:])\n",
    "# print(a[:-2])\n",
    "final_dates = []\n",
    "for date in conv_dates:\n",
    "    if (int(date[-2:]) > 20):\n",
    "        final_date = date[:-2] + '19' + date[-2:] \n",
    "        final_dates.append(final_date)\n",
    "    else:\n",
    "        final_date = date[:-2] + '20' + date[-2:]\n",
    "        final_dates.append(final_date)\n",
    "\n",
    "print(final_dates[:10])\n",
    "print(len(final_dates))"
   ]
  },
  {
   "cell_type": "code",
   "execution_count": 249,
   "metadata": {},
   "outputs": [
    {
     "name": "stdout",
     "output_type": "stream",
     "text": [
      "      INCIDENT_ID        DATE  X_1  X_2  X_3  X_4  X_5  X_6  X_7  X_8  X_9  \\\n",
      "19022     CR_1141  01-01-1991    0   22   22    7    3    8    3    7    2   \n",
      "4497      CR_6143  01-01-1992    0   21   23    4    1    2    7    1    6   \n",
      "18978     CR_7504  01-01-1992    0   33   32    2    1    8    3    0    5   \n",
      "13464    CR_16081  01-01-1993    0   36   34    2    1    1    0    0    5   \n",
      "13038    CR_16226  01-01-1993    1   36   34    2    1   15   10    1    6   \n",
      "\n",
      "       X_10  X_11  X_12  X_13  X_14  X_15  MULTIPLE_OFFENSE  \n",
      "19022     2     0   2.0    72   142    34                 1  \n",
      "4497      1   174   1.0   103    80    34                 1  \n",
      "18978     1   174   0.0    72   142    48                 1  \n",
      "13464     1   174   0.0   103    93    43                 1  \n",
      "13038     1   249   1.0    92    29    34                 1  \n"
     ]
    }
   ],
   "source": [
    "new_df = data\n",
    "new_df['DATE'] = final_dates\n",
    "new_df.sort_values(by='DATE')\n",
    "\n",
    "#Sorting data according to Date in ascending order\n",
    "sorted_data=new_df.sort_values('DATE')\n",
    "print(sorted_data.head())"
   ]
  },
  {
   "cell_type": "code",
   "execution_count": 250,
   "metadata": {},
   "outputs": [
    {
     "name": "stdout",
     "output_type": "stream",
     "text": [
      "The number of NaN values in the data is:  INCIDENT_ID           0\n",
      "DATE                  0\n",
      "X_1                   0\n",
      "X_2                   0\n",
      "X_3                   0\n",
      "X_4                   0\n",
      "X_5                   0\n",
      "X_6                   0\n",
      "X_7                   0\n",
      "X_8                   0\n",
      "X_9                   0\n",
      "X_10                  0\n",
      "X_11                  0\n",
      "X_12                182\n",
      "X_13                  0\n",
      "X_14                  0\n",
      "X_15                  0\n",
      "MULTIPLE_OFFENSE      0\n",
      "dtype: int64\n",
      "The percentage of missing values is: 0.763 % \n"
     ]
    }
   ],
   "source": [
    "#Find number of NaN values in DF if its very small lets drop them else follow imputation techniques\n",
    "print(\"The number of NaN values in the data is: \",len(sorted_data)-sorted_data.count())\n",
    "print(\"The percentage of missing values is: {} % \".format(((len(sorted_data)-sorted_data.count()).sum()*100/len(sorted_data)).round(3)))"
   ]
  },
  {
   "cell_type": "code",
   "execution_count": 252,
   "metadata": {},
   "outputs": [
    {
     "name": "stdout",
     "output_type": "stream",
     "text": [
      "21306\n",
      "2368\n"
     ]
    }
   ],
   "source": [
    "#since the missing values are very less lets drop them\n",
    "sorted_data = sorted_data.dropna()\n",
    "\n",
    "#Performing the standard train test split of 80-20\n",
    "y_labels = sorted_data['MULTIPLE_OFFENSE'].values\n",
    "# sorted_data = sorted_data.drop(columns = 'MULTIPLE_OFFENSE')\n",
    "\n",
    "# split the data into test and train by maintaining same distribution of output varaible 'y_true' [stratify=y_true]\n",
    "X_train, X_test, y_train, y_test = train_test_split(sorted_data, y_labels, stratify=y_labels, test_size=0.1)\n",
    "print(len(X_train))\n",
    "print(len(X_test))"
   ]
  },
  {
   "cell_type": "markdown",
   "metadata": {},
   "source": [
    "# EDA on Random features(value counts and Histogram) :"
   ]
  },
  {
   "cell_type": "code",
   "execution_count": 253,
   "metadata": {},
   "outputs": [],
   "source": [
    "def plot_univariate(feature):\n",
    "    s = sum(feature.values);\n",
    "    h = feature.values/s;\n",
    "    plt.plot(h, label=\"Histrogram \")\n",
    "    plt.xlabel('Index ')\n",
    "    plt.ylabel('Number of Occurances')\n",
    "    plt.legend()\n",
    "    plt.grid()\n",
    "    plt.show()\n"
   ]
  },
  {
   "cell_type": "code",
   "execution_count": 254,
   "metadata": {},
   "outputs": [
    {
     "data": {
      "text/plain": [
       "0    16969\n",
       "1     3152\n",
       "7      788\n",
       "5      247\n",
       "3      112\n",
       "4       25\n",
       "2        9\n",
       "6        4\n",
       "Name: X_1, dtype: int64"
      ]
     },
     "execution_count": 254,
     "metadata": {},
     "output_type": "execute_result"
    }
   ],
   "source": [
    "X_train['X_1'].value_counts()"
   ]
  },
  {
   "cell_type": "code",
   "execution_count": 255,
   "metadata": {},
   "outputs": [
    {
     "name": "stdout",
     "output_type": "stream",
     "text": [
      "Number of Unique x1 : 8\n",
      "0    16969\n",
      "1     3152\n",
      "7      788\n",
      "5      247\n",
      "3      112\n",
      "4       25\n",
      "2        9\n",
      "6        4\n",
      "Name: X_1, dtype: int64\n"
     ]
    }
   ],
   "source": [
    "unique_x1 = X_train['X_1'].value_counts()\n",
    "print('Number of Unique x1 :', unique_x1.shape[0])\n",
    "\n",
    "print(unique_x1.head(8))"
   ]
  },
  {
   "cell_type": "code",
   "execution_count": 256,
   "metadata": {},
   "outputs": [
    {
     "name": "stdout",
     "output_type": "stream",
     "text": [
      "HISTOGRAM of X1's\n"
     ]
    },
    {
     "data": {
      "image/png": "[encoded data removed]",
      "text/plain": [
       "<Figure size 432x288 with 1 Axes>"
      ]
     },
     "metadata": {},
     "output_type": "display_data"
    }
   ],
   "source": [
    "print(\"HISTOGRAM of X1's\")\n",
    "plot_univariate(unique_x1)"
   ]
  },
  {
   "cell_type": "code",
   "execution_count": 257,
   "metadata": {},
   "outputs": [
    {
     "name": "stdout",
     "output_type": "stream",
     "text": [
      "Number of Unique x3 : 8\n",
      "4     3605\n",
      "34    1951\n",
      "32    1931\n",
      "24    1199\n",
      "23    1122\n",
      "37     877\n",
      "49     831\n",
      "45     813\n",
      "2      688\n",
      "22     612\n",
      "Name: X_3, dtype: int64\n"
     ]
    }
   ],
   "source": [
    "unique_x3 = X_train['X_3'].value_counts()\n",
    "print('Number of Unique x3 :', unique_x1.shape[0])\n",
    "\n",
    "print(unique_x3.head(8))"
   ]
  },
  {
   "cell_type": "code",
   "execution_count": 258,
   "metadata": {},
   "outputs": [
    {
     "name": "stdout",
     "output_type": "stream",
     "text": [
      "HISTOGRAM of X3's\n"
     ]
    },
    {
     "data": {
      "image/png": "[encoded data removed]",
      "text/plain": [
       "<Figure size 432x288 with 1 Axes>"
      ]
     },
     "metadata": {},
     "output_type": "display_data"
    }
   ],
   "source": [
    "print(\"HISTOGRAM of X3's\")\n",
    "plot_univariate(unique_x3)"
   ]
  },
  {
   "cell_type": "code",
   "execution_count": 259,
   "metadata": {},
   "outputs": [
    {
     "name": "stdout",
     "output_type": "stream",
     "text": [
      "Number of Unique x11 : 125\n",
      "174    6424\n",
      "249    6214\n",
      "316    4064\n",
      "0      2271\n",
      "303     400\n",
      "127     269\n",
      "74      193\n",
      "179     186\n",
      "102     109\n",
      "263      90\n",
      "Name: X_11, dtype: int64\n"
     ]
    }
   ],
   "source": [
    "unique_x11 = X_train['X_11'].value_counts()\n",
    "print('Number of Unique x11 :', unique_x11.shape[0])\n",
    "# the top 10 that occured most\n",
    "print(unique_x11.head(10))"
   ]
  },
  {
   "cell_type": "code",
   "execution_count": 260,
   "metadata": {},
   "outputs": [
    {
     "name": "stdout",
     "output_type": "stream",
     "text": [
      "HISTOGRAM of X11's\n"
     ]
    },
    {
     "data": {
      "image/png": "[encoded data removed]",
      "text/plain": [
       "<Figure size 432x288 with 1 Axes>"
      ]
     },
     "metadata": {},
     "output_type": "display_data"
    }
   ],
   "source": [
    "print(\"HISTOGRAM of X11's\")\n",
    "plot_univariate(unique_x11)"
   ]
  },
  {
   "cell_type": "markdown",
   "metadata": {},
   "source": [
    "### OBSERVATIONS FROM EDA: ###\n",
    "    1. It was observed that data was highly imbalanced to the ratio of 95 percent(hacked) to 5 percent(not hacked).\n",
    "    2. It is important to come up with right techniques to handle this high imbalance.\n",
    "    3. All categorical values had different kind of distributions with some having fewer categories and some having many categories"
   ]
  },
  {
   "cell_type": "markdown",
   "metadata": {},
   "source": [
    "# Featurizations (Response Coding and one hot encoding) : "
   ]
  },
  {
   "cell_type": "code",
   "execution_count": 261,
   "metadata": {},
   "outputs": [],
   "source": [
    "## Response Coding for features \n",
    "\n",
    "def get_xi_fea_dict(alpha, feature, df):\n",
    "    # value_count: it contains a dict like\n",
    "    value_count = X_train[feature].value_counts()\n",
    "    \n",
    "    xi_dict = dict()\n",
    "    \n",
    "    # denominator will contain the number of time that particular feature occured in whole data\n",
    "    for i, denominator in value_count.items():\n",
    "        # vec will contain (p(yi==1/xi) probability of feature belongs to perticular class\n",
    "        # vec is 2 diamensional vector\n",
    "        vec = []\n",
    "        for k in range(2):\n",
    "\n",
    "            cls_cnt = X_train.loc[(X_train['MULTIPLE_OFFENSE']==k) & (X_train[feature]==i)]\n",
    "            \n",
    "            # cls_cnt.shape[0](numerator) will contain the number of time that particular feature occured in whole data\n",
    "            vec.append((cls_cnt.shape[0] + alpha*1)/ (denominator + 2*alpha))\n",
    "\n",
    "        xi_dict[i]=vec\n",
    "    return xi_dict\n",
    "\n",
    "def get_xi_feature(alpha, feature, df):\n",
    "\n",
    "    xi_dict = get_xi_fea_dict(alpha, feature, df)\n",
    "    \n",
    "    value_count = X_train[feature].value_counts()\n",
    "    \n",
    "    xi_fea = []\n",
    "    # if not we will add [1/2,1/2] to xi_fea\n",
    "    for index, row in df.iterrows():\n",
    "        if row[feature] in dict(value_count).keys():\n",
    "            xi_fea.append(xi_dict[row[feature]])\n",
    "        else:\n",
    "            xi_fea.append([1/2,1/2])\n",
    "\n",
    "    return xi_fea"
   ]
  },
  {
   "cell_type": "code",
   "execution_count": 262,
   "metadata": {},
   "outputs": [
    {
     "name": "stdout",
     "output_type": "stream",
     "text": [
      "train_x1_feature_responseCoding is converted feature using respone coding method. The shape of feature: (21306, 2)\n"
     ]
    }
   ],
   "source": [
    "alpha = 1\n",
    "\n",
    "train_x1_feature_responseCoding = np.array(get_xi_feature(alpha, \"X_1\", X_train))\n",
    "\n",
    "test_x1_feature_responseCoding = np.array(get_xi_feature(alpha, \"X_1\", X_test))\n",
    "\n",
    "train_x2_feature_responseCoding = np.array(get_xi_feature(alpha, \"X_2\", X_train))\n",
    "\n",
    "test_x2_feature_responseCoding = np.array(get_xi_feature(alpha, \"X_2\", X_test))\n",
    "\n",
    "\n",
    "print(\"train_x1_feature_responseCoding is converted feature using respone coding method. The shape of feature:\", train_x1_feature_responseCoding.shape)"
   ]
  },
  {
   "cell_type": "code",
   "execution_count": 263,
   "metadata": {},
   "outputs": [],
   "source": [
    "#Converting all other 14 features into response coded features\n",
    "train_x3_feature_responseCoding = np.array(get_xi_feature(alpha, \"X_3\", X_train))\n",
    "test_x3_feature_responseCoding = np.array(get_xi_feature(alpha, \"X_3\", X_test))\n",
    "\n",
    "train_x4_feature_responseCoding = np.array(get_xi_feature(alpha, \"X_4\", X_train))\n",
    "test_x4_feature_responseCoding = np.array(get_xi_feature(alpha, \"X_4\", X_test))\n",
    "\n",
    "train_x5_feature_responseCoding = np.array(get_xi_feature(alpha, \"X_5\", X_train))\n",
    "test_x5_feature_responseCoding = np.array(get_xi_feature(alpha, \"X_5\", X_test))\n",
    "\n",
    "train_x6_feature_responseCoding = np.array(get_xi_feature(alpha, \"X_6\", X_train))\n",
    "test_x6_feature_responseCoding = np.array(get_xi_feature(alpha, \"X_6\", X_test))\n",
    "\n",
    "train_x7_feature_responseCoding = np.array(get_xi_feature(alpha, \"X_7\", X_train))\n",
    "test_x7_feature_responseCoding = np.array(get_xi_feature(alpha, \"X_7\", X_test))\n",
    "\n",
    "train_x8_feature_responseCoding = np.array(get_xi_feature(alpha, \"X_8\", X_train))\n",
    "test_x8_feature_responseCoding = np.array(get_xi_feature(alpha, \"X_8\", X_test))\n",
    "\n",
    "train_x9_feature_responseCoding = np.array(get_xi_feature(alpha, \"X_9\", X_train))\n",
    "test_x9_feature_responseCoding = np.array(get_xi_feature(alpha, \"X_9\", X_test))\n",
    "\n",
    "train_x10_feature_responseCoding = np.array(get_xi_feature(alpha, \"X_10\", X_train))\n",
    "test_x10_feature_responseCoding = np.array(get_xi_feature(alpha, \"X_10\", X_test))\n",
    "\n",
    "train_x11_feature_responseCoding = np.array(get_xi_feature(alpha, \"X_11\", X_train))\n",
    "test_x11_feature_responseCoding = np.array(get_xi_feature(alpha, \"X_11\", X_test))\n",
    "\n",
    "train_x12_feature_responseCoding = np.array(get_xi_feature(alpha, \"X_12\", X_train))\n",
    "test_x12_feature_responseCoding = np.array(get_xi_feature(alpha, \"X_12\", X_test))\n",
    "\n",
    "train_x13_feature_responseCoding = np.array(get_xi_feature(alpha, \"X_13\", X_train))\n",
    "test_x13_feature_responseCoding = np.array(get_xi_feature(alpha, \"X_13\", X_test))\n",
    "\n",
    "train_x14_feature_responseCoding = np.array(get_xi_feature(alpha, \"X_14\", X_train))\n",
    "test_x14_feature_responseCoding = np.array(get_xi_feature(alpha, \"X_14\", X_test))\n",
    "\n",
    "train_x15_feature_responseCoding = np.array(get_xi_feature(alpha, \"X_15\", X_train))\n",
    "test_x15_feature_responseCoding = np.array(get_xi_feature(alpha, \"X_15\", X_test))\n"
   ]
  },
  {
   "cell_type": "code",
   "execution_count": 264,
   "metadata": {},
   "outputs": [
    {
     "name": "stdout",
     "output_type": "stream",
     "text": [
      "train_features_responseCoding is converted feature using respone coding method. The shape of feature: (21306, 30)\n",
      "test_features_responseCoding is converted feature using respone coding method. The shape of feature: (2368, 30)\n"
     ]
    }
   ],
   "source": [
    "#stacking all the response coded vectors\n",
    "train_features_responseCoding = np.concatenate((train_x1_feature_responseCoding,train_x2_feature_responseCoding,train_x3_feature_responseCoding,train_x4_feature_responseCoding,train_x5_feature_responseCoding,train_x6_feature_responseCoding,train_x7_feature_responseCoding,train_x8_feature_responseCoding,train_x9_feature_responseCoding,train_x10_feature_responseCoding,train_x11_feature_responseCoding,train_x12_feature_responseCoding,train_x13_feature_responseCoding,train_x14_feature_responseCoding,train_x15_feature_responseCoding),axis=-1)\n",
    "test_features_responseCoding =  np.concatenate((test_x1_feature_responseCoding,test_x2_feature_responseCoding,test_x3_feature_responseCoding,test_x4_feature_responseCoding,test_x5_feature_responseCoding,test_x6_feature_responseCoding,test_x7_feature_responseCoding,test_x8_feature_responseCoding,test_x9_feature_responseCoding,test_x10_feature_responseCoding,test_x11_feature_responseCoding,test_x12_feature_responseCoding,test_x13_feature_responseCoding,test_x14_feature_responseCoding,test_x15_feature_responseCoding),axis=-1)\n",
    "\n",
    "print(\"train_features_responseCoding is converted feature using respone coding method. The shape of feature:\", train_features_responseCoding.shape)\n",
    "print(\"test_features_responseCoding is converted feature using respone coding method. The shape of feature:\", test_features_responseCoding.shape)"
   ]
  },
  {
   "cell_type": "markdown",
   "metadata": {},
   "source": [
    "## Try OneHotEncoding (might not be a good idea!): "
   ]
  },
  {
   "cell_type": "code",
   "execution_count": 266,
   "metadata": {},
   "outputs": [
    {
     "name": "stdout",
     "output_type": "stream",
     "text": [
      "15\n",
      "15\n",
      "The sum of categorical variables between X1 and X15 is:  509\n",
      "       X_1  X_2  X_3  X_4  X_5  X_6  X_7  X_8  X_9  X_10  X_11  X_12  X_13  \\\n",
      "1022     0   36   34    2    1    5    6    1    6     1   249     1   103   \n",
      "13874    0   26   27    9    0    3    5    1    2     1   316     1    98   \n",
      "17452    0   47   48    7    3    4    2    0    5     1   316     1    72   \n",
      "18886    0   24   24    0    0    5    6    2    6     3   249     3   103   \n",
      "1632     0   24   24    0    0    7    1    2    2     2   102     2    92   \n",
      "\n",
      "       X_14  X_15  \n",
      "1022     29    34  \n",
      "13874   142    34  \n",
      "17452    29    34  \n",
      "18886   130    34  \n",
      "1632    142    34  \n",
      "[array([0, 1, 2, 3, 4, 5, 6, 7]), array([ 0,  1,  2,  3,  4,  5,  6,  7,  8,  9, 10, 11, 13, 14, 15, 16, 17,\n",
      "       18, 19, 20, 21, 22, 23, 24, 25, 26, 27, 28, 29, 30, 31, 32, 33, 34,\n",
      "       35, 36, 37, 38, 39, 40, 41, 42, 43, 44, 45, 46, 47, 48, 49, 50, 51,\n",
      "       52]), array([ 0,  1,  2,  3,  4,  5,  6,  7,  8,  9, 10, 11, 13, 14, 15, 16, 17,\n",
      "       18, 19, 20, 21, 22, 23, 24, 25, 26, 27, 28, 29, 30, 31, 32, 33, 34,\n",
      "       35, 36, 37, 38, 39, 40, 41, 42, 43, 44, 45, 46, 47, 48, 49, 50, 51,\n",
      "       52]), array([ 0,  1,  2,  3,  4,  5,  6,  7,  9, 10]), array([0, 1, 2, 3, 5]), array([ 1,  2,  3,  4,  5,  6,  7,  8,  9, 10, 11, 12, 13, 14, 15, 16, 17,\n",
      "       18, 19]), array([ 0,  1,  2,  3,  4,  5,  6,  7,  8,  9, 10, 11, 12, 13, 14, 15, 16,\n",
      "       17, 18]), array([ 0,  1,  2,  3,  4,  5,  6,  7,  8,  9, 10, 11, 12, 13, 14, 15, 16,\n",
      "       20, 21, 22, 30, 50, 99]), array([0, 1, 2, 3, 4, 5, 6]), array([ 1,  2,  3,  4,  5,  6,  7,  8,  9, 10, 11, 12, 15, 16, 17, 18, 19,\n",
      "       20, 30, 40, 50, 58, 90]), array([  0,   1,   6,  11,  12,  16,  20,  21,  25,  31,  32,  33,  39,\n",
      "        43,  47,  50,  53,  55,  58,  60,  67,  68,  69,  71,  73,  74,\n",
      "        75,  76,  79,  82,  84,  97,  98, 102, 104, 106, 111, 114, 120,\n",
      "       127, 128, 132, 135, 137, 145, 150, 158, 159, 161, 162, 164, 169,\n",
      "       174, 175, 179, 182, 184, 185, 189, 192, 196, 198, 200, 204, 205,\n",
      "       206, 207, 208, 209, 210, 218, 220, 222, 223, 225, 229, 231, 232,\n",
      "       234, 236, 241, 243, 244, 245, 248, 249, 254, 255, 256, 260, 261,\n",
      "       263, 264, 266, 268, 270, 273, 274, 277, 285, 287, 290, 291, 292,\n",
      "       294, 295, 297, 299, 303, 306, 310, 313, 314, 316, 319, 320, 321,\n",
      "       322, 323, 325, 327, 328, 329, 330, 332]), array([ 0,  1,  2,  3,  4,  5,  6,  7,  8,  9, 10, 11, 15, 16, 17, 20, 30,\n",
      "       40, 50, 58, 90]), array([  0,   1,   2,   7,   8,   9,  10,  12,  13,  17,  18,  24,  25,\n",
      "        27,  30,  31,  32,  34,  40,  41,  42,  43,  44,  48,  54,  58,\n",
      "        59,  60,  67,  69,  72,  73,  74,  75,  76,  77,  80,  83,  84,\n",
      "        86,  87,  88,  89,  92,  94,  97,  98,  99, 102, 103, 108, 109,\n",
      "       110, 111, 112, 113, 114, 115, 116]), array([  0,   2,   6,  12,  14,  16,  24,  25,  29,  30,  33,  34,  37,\n",
      "        43,  51,  52,  53,  56,  57,  59,  61,  62,  65,  66,  68,  70,\n",
      "        74,  76,  77,  79,  80,  81,  86,  87,  90,  92,  93,  97,  99,\n",
      "       100, 103, 104, 107, 111, 114, 115, 118, 119, 124, 128, 129, 130,\n",
      "       133, 136, 138, 139, 140, 142]), array([ 0,  4,  5,  8,  9, 12, 14, 15, 16, 17, 18, 21, 22, 23, 24, 31, 32,\n",
      "       34, 35, 36, 38, 39, 40, 41, 43, 46, 48, 50])]\n",
      "The shape of one hot encoded train features is:  (21306, 509)\n",
      "The shape of one hot encoded test features is:  (2368, 509)\n"
     ]
    }
   ],
   "source": [
    "#Find the sum of unique categoical values in from x1 to x15 \n",
    "\n",
    "cat_values = []\n",
    "for col in X_train.loc[:, 'X_1':'X_15'].columns:\n",
    "        cat_values.append(X_train[col].unique())\n",
    "print(len(cat_values))\n",
    "cat_values=list(cat_values)\n",
    "\n",
    "print(len(cat_values))\n",
    "\n",
    "total_cat = 0\n",
    "for i in range(len(cat_values)):\n",
    "    total_cat += len(cat_values[i])\n",
    "\n",
    "print(\"The sum of categorical variables between X1 and X15 is: \",total_cat)\n",
    "\n",
    "X_train_clean = X_train.loc[:,'X_1':'X_15'].dropna()\n",
    "X_test_clean = X_test.loc[:,'X_1':'X_15'].dropna()\n",
    "\n",
    "X_train_clean = X_train_clean.astype(int) \n",
    "X_test_clean = X_test_clean.astype(int)\n",
    "\n",
    "print(X_train_clean.head())\n",
    "# Use one hot encoding to add those features and \n",
    "ohe = OneHotEncoder(handle_unknown='ignore')\n",
    "X_train_ohe = ohe.fit_transform(X_train_clean).toarray()\n",
    "X_test_ohe = ohe.transform(X_test_clean).toarray()\n",
    "feature_labels = ohe.categories_\n",
    "\n",
    "print(feature_labels)\n",
    "print(\"The shape of one hot encoded train features is: \",X_train_ohe.shape)\n",
    "print(\"The shape of one hot encoded test features is: \",X_test_ohe.shape)"
   ]
  },
  {
   "cell_type": "markdown",
   "metadata": {},
   "source": [
    "NOTE on featurizations:\n",
    "    1. As all the 15 anonymized features were categorical, we came up with two featurization methods a. Response Coding b. One HOt Encoding.\n",
    "    2. Response coding takes the probability value of class values of particular category. OHE is a high dimensional representation where we take each category as a unique dimension.\n",
    "    3. For response coding we ended up with 30 features, 15 for each class and OHE we had around 509 features!\n",
    "    4. From a gut feeling, it looks like OHE might not be a good featurization technique for this problem as the features are highly categorical."
   ]
  },
  {
   "cell_type": "markdown",
   "metadata": {},
   "source": [
    "## Baseline Models (KNN and Naive-Bayes):"
   ]
  },
  {
   "cell_type": "code",
   "execution_count": 268,
   "metadata": {},
   "outputs": [
    {
     "name": "stdout",
     "output_type": "stream",
     "text": [
      "(21306, 15)\n",
      "<class 'numpy.ndarray'>\n",
      "The shape of Train vector(low dim) with response coding:  (21306, 45)\n",
      "The shape of Test vector(low dim) with response coding:  (2368, 45)\n",
      "The shape of Train vector(high dim) with response coding:  (21306, 554)\n",
      "The shape of Test vector(high dim) with response coding:  (2368, 554)\n"
     ]
    }
   ],
   "source": [
    "#Dropping Date, CR and the result columns from the input vectors\n",
    "\n",
    "X_trainf = X_train.loc[:, 'X_1':'X_15'] \n",
    "X_trainf = X_trainf.to_numpy()\n",
    "print(X_trainf.shape)\n",
    "\n",
    "X_testf = X_test.loc[:, 'X_1':'X_15'] \n",
    "X_testf = X_testf.to_numpy()\n",
    "# print(X_testf.shape)\n",
    "\n",
    "print(type(X_trainf))\n",
    "#lets create two featurizations one high dim with ohe and res coding another with res coding alone\n",
    "\n",
    "#Adding the response coded and ohe features to the original features\n",
    "X_train_rc = np.concatenate((X_trainf,train_features_responseCoding),axis=-1)\n",
    "X_test_rc = np.concatenate((X_testf,test_features_responseCoding),axis=-1)\n",
    "\n",
    "\n",
    "print(\"The shape of Train vector(low dim) with response coding: \",X_train_rc.shape)\n",
    "print(\"The shape of Test vector(low dim) with response coding: \",X_test_rc.shape)\n",
    "\n",
    "#Adding the response coded and ohe features to the original features\n",
    "X_train_ohe_rc = np.concatenate((X_trainf,train_features_responseCoding,X_train_ohe),axis=-1)\n",
    "X_test_ohe_rc = np.concatenate((X_testf,test_features_responseCoding,X_test_ohe),axis=-1)\n",
    "\n",
    "print(\"The shape of Train vector(high dim) with response coding: \",X_train_ohe_rc.shape)\n",
    "print(\"The shape of Test vector(high dim) with response coding: \",X_test_ohe_rc.shape)"
   ]
  },
  {
   "cell_type": "code",
   "execution_count": 346,
   "metadata": {},
   "outputs": [],
   "source": [
    "def find_optimal_k(x,y,k,algo):\n",
    "    \n",
    "    k_list = list(range(1,100,8))\n",
    "    \n",
    "    tuned_parameters = [{'n_neighbors': k_list}]\n",
    "    model = GridSearchCV(KNeighborsClassifier(n_neighbors=k,weights='distance',algorithm=algo), tuned_parameters, scoring = 'roc_auc',n_jobs=-1, cv=k,return_train_score = True)\n",
    "    model.fit(x,y)\n",
    "        \n",
    "    train_scores = model.cv_results_['mean_train_score']\n",
    "    cv_scores = model.cv_results_['mean_test_score']    \n",
    "    \n",
    "    \n",
    "\n",
    "    optimal_k = k_list[np.argmax(cv_scores)]\n",
    "    print('\\nThe optimal value of k is %f.' % optimal_k)\n",
    "    #taking log of the values for graph to maintain the scale\n",
    "    plt.figure(figsize=(16,8))\n",
    "\n",
    "    plt.plot(k_list, cv_scores,label='CV_plot for k')\n",
    "    plt.plot(k_list, train_scores,label= 'Train_plot for k')\n",
    "\n",
    "    for xy in zip(k_list, np.round(cv_scores,3)):\n",
    "        plt.annotate('(%s, %s)' % xy, xy=xy, textcoords='data')\n",
    "\n",
    "    for xy in zip(k_list, np.round(train_scores,3)):\n",
    "        plt.annotate('(%s, %s)' % xy, xy=xy, textcoords='data')\n",
    "\n",
    "    plt.xlabel('Value of k ')\n",
    "    plt.ylabel('Recall Score')\n",
    "    plt.legend()\n",
    "    plt.show()\n",
    "\n",
    "    print(\"the AUC score for each k value is : \", np.round(cv_scores,3))\n",
    "\n",
    "    return optimal_k\n",
    "\n"
   ]
  },
  {
   "cell_type": "code",
   "execution_count": 343,
   "metadata": {},
   "outputs": [
    {
     "name": "stdout",
     "output_type": "stream",
     "text": [
      "\n",
      "The optimal value of k is 49.000000.\n"
     ]
    },
    {
     "data": {
      "image/png": "[encoded data removed]",
      "text/plain": [
       "<Figure size 1152x576 with 1 Axes>"
      ]
     },
     "metadata": {},
     "output_type": "display_data"
    },
    {
     "name": "stdout",
     "output_type": "stream",
     "text": [
      "the AUC score for each k value is :  [1. 1. 1. 1. 1. 1. 1. 1. 1. 1. 1. 1. 1.]\n"
     ]
    }
   ],
   "source": [
    "Scaler = StandardScaler(copy=True, with_mean=False, with_std=True).fit(X_train_rc) \n",
    "X_train_rc_std = Scaler.transform(X_train_rc)\n",
    "X_test_rc_std = Scaler.transform(X_test_rc) \n",
    "\n",
    "opt_k = find_optimal_k(X_train_rc_std,y_train,5,'brute')"
   ]
  },
  {
   "cell_type": "code",
   "execution_count": 344,
   "metadata": {},
   "outputs": [
    {
     "name": "stdout",
     "output_type": "stream",
     "text": [
      "\n",
      "The Recall score of the KNN classifier for k = 49.000000 is 99.955772%\n"
     ]
    },
    {
     "data": {
      "image/png": "[encoded data removed]",
      "text/plain": [
       "<Figure size 1440x288 with 6 Axes>"
      ]
     },
     "metadata": {},
     "output_type": "display_data"
    }
   ],
   "source": [
    "knn = KNeighborsClassifier(n_neighbors=opt_k,weights='distance',algorithm='brute',n_jobs=4)\n",
    "\n",
    "# fitting the model\n",
    "knn.fit(X_train_rc_std, y_train)\n",
    "\n",
    "# predict the response\n",
    "prob = knn.predict_proba(X_test_rc_std)[:,1]\n",
    "\n",
    "pred = knn.predict(X_test_rc_std)\n",
    "# evaluate accuracy\n",
    "recall = recall_score(y_test, pred) * 100\n",
    "print('\\nThe Recall score of the KNN classifier for k = %f is %f%%' % (opt_k, recall))\n",
    "\n",
    "plot_confusion_matrix(y_test,pred)"
   ]
  },
  {
   "cell_type": "code",
   "execution_count": 299,
   "metadata": {},
   "outputs": [
    {
     "data": {
      "text/html": [
       "<div>\n",
       "<style scoped>\n",
       "    .dataframe tbody tr th:only-of-type {\n",
       "        vertical-align: middle;\n",
       "    }\n",
       "\n",
       "    .dataframe tbody tr th {\n",
       "        vertical-align: top;\n",
       "    }\n",
       "\n",
       "    .dataframe thead th {\n",
       "        text-align: right;\n",
       "    }\n",
       "</style>\n",
       "<table border=\"1\" class=\"dataframe\">\n",
       "  <thead>\n",
       "    <tr style=\"text-align: right;\">\n",
       "      <th></th>\n",
       "      <th>INCIDENT_ID</th>\n",
       "      <th>DATE</th>\n",
       "      <th>X_1</th>\n",
       "      <th>X_2</th>\n",
       "      <th>X_3</th>\n",
       "      <th>X_4</th>\n",
       "      <th>X_5</th>\n",
       "      <th>X_6</th>\n",
       "      <th>X_7</th>\n",
       "      <th>X_8</th>\n",
       "      <th>X_9</th>\n",
       "      <th>X_10</th>\n",
       "      <th>X_11</th>\n",
       "      <th>X_12</th>\n",
       "      <th>X_13</th>\n",
       "      <th>X_14</th>\n",
       "      <th>X_15</th>\n",
       "    </tr>\n",
       "  </thead>\n",
       "  <tbody>\n",
       "    <tr>\n",
       "      <th>0</th>\n",
       "      <td>CR_195453</td>\n",
       "      <td>01-FEB-18</td>\n",
       "      <td>0</td>\n",
       "      <td>30</td>\n",
       "      <td>35</td>\n",
       "      <td>7</td>\n",
       "      <td>3</td>\n",
       "      <td>6</td>\n",
       "      <td>4</td>\n",
       "      <td>0</td>\n",
       "      <td>5</td>\n",
       "      <td>1</td>\n",
       "      <td>174</td>\n",
       "      <td>NaN</td>\n",
       "      <td>72</td>\n",
       "      <td>119</td>\n",
       "      <td>23</td>\n",
       "    </tr>\n",
       "    <tr>\n",
       "      <th>1</th>\n",
       "      <td>CR_103520</td>\n",
       "      <td>05-MAR-04</td>\n",
       "      <td>0</td>\n",
       "      <td>44</td>\n",
       "      <td>44</td>\n",
       "      <td>1</td>\n",
       "      <td>3</td>\n",
       "      <td>7</td>\n",
       "      <td>1</td>\n",
       "      <td>4</td>\n",
       "      <td>6</td>\n",
       "      <td>1</td>\n",
       "      <td>316</td>\n",
       "      <td>0.0</td>\n",
       "      <td>12</td>\n",
       "      <td>29</td>\n",
       "      <td>34</td>\n",
       "    </tr>\n",
       "    <tr>\n",
       "      <th>2</th>\n",
       "      <td>CR_196089</td>\n",
       "      <td>27-JAN-18</td>\n",
       "      <td>0</td>\n",
       "      <td>34</td>\n",
       "      <td>33</td>\n",
       "      <td>3</td>\n",
       "      <td>5</td>\n",
       "      <td>2</td>\n",
       "      <td>7</td>\n",
       "      <td>3</td>\n",
       "      <td>0</td>\n",
       "      <td>1</td>\n",
       "      <td>316</td>\n",
       "      <td>1.0</td>\n",
       "      <td>72</td>\n",
       "      <td>0</td>\n",
       "      <td>34</td>\n",
       "    </tr>\n",
       "    <tr>\n",
       "      <th>3</th>\n",
       "      <td>CR_112195</td>\n",
       "      <td>18-AUG-06</td>\n",
       "      <td>7</td>\n",
       "      <td>3</td>\n",
       "      <td>2</td>\n",
       "      <td>3</td>\n",
       "      <td>5</td>\n",
       "      <td>9</td>\n",
       "      <td>8</td>\n",
       "      <td>0</td>\n",
       "      <td>5</td>\n",
       "      <td>1</td>\n",
       "      <td>174</td>\n",
       "      <td>1.0</td>\n",
       "      <td>112</td>\n",
       "      <td>87</td>\n",
       "      <td>34</td>\n",
       "    </tr>\n",
       "    <tr>\n",
       "      <th>4</th>\n",
       "      <td>CR_149832</td>\n",
       "      <td>31-OCT-11</td>\n",
       "      <td>0</td>\n",
       "      <td>7</td>\n",
       "      <td>8</td>\n",
       "      <td>7</td>\n",
       "      <td>3</td>\n",
       "      <td>2</td>\n",
       "      <td>7</td>\n",
       "      <td>1</td>\n",
       "      <td>5</td>\n",
       "      <td>1</td>\n",
       "      <td>174</td>\n",
       "      <td>0.0</td>\n",
       "      <td>112</td>\n",
       "      <td>93</td>\n",
       "      <td>43</td>\n",
       "    </tr>\n",
       "  </tbody>\n",
       "</table>\n",
       "</div>"
      ],
      "text/plain": [
       "  INCIDENT_ID       DATE  X_1  X_2  X_3  X_4  X_5  X_6  X_7  X_8  X_9  X_10  \\\n",
       "0   CR_195453  01-FEB-18    0   30   35    7    3    6    4    0    5     1   \n",
       "1   CR_103520  05-MAR-04    0   44   44    1    3    7    1    4    6     1   \n",
       "2   CR_196089  27-JAN-18    0   34   33    3    5    2    7    3    0     1   \n",
       "3   CR_112195  18-AUG-06    7    3    2    3    5    9    8    0    5     1   \n",
       "4   CR_149832  31-OCT-11    0    7    8    7    3    2    7    1    5     1   \n",
       "\n",
       "   X_11  X_12  X_13  X_14  X_15  \n",
       "0   174   NaN    72   119    23  \n",
       "1   316   0.0    12    29    34  \n",
       "2   316   1.0    72     0    34  \n",
       "3   174   1.0   112    87    34  \n",
       "4   174   0.0   112    93    43  "
      ]
     },
     "execution_count": 299,
     "metadata": {},
     "output_type": "execute_result"
    }
   ],
   "source": [
    "# Test the code on test dataset and provide the predictions\n",
    "test_data = pd.read_csv('C:\\\\Users\\\\rahul\\\\Desktop\\\\Novartis Challenge\\\\Dataset\\\\Test.csv',encoding='utf-8')\n",
    "test_data.head()\n"
   ]
  },
  {
   "cell_type": "code",
   "execution_count": 309,
   "metadata": {},
   "outputs": [
    {
     "data": {
      "text/plain": [
       "<bound method NDFrame.describe of       INCIDENT_ID       DATE  X_1  X_2  X_3  X_4  X_5  X_6  X_7  X_8  X_9  \\\n",
       "0       CR_195453  01-FEB-18    0   30   35    7    3    6    4    0    5   \n",
       "1       CR_103520  05-MAR-04    0   44   44    1    3    7    1    4    6   \n",
       "2       CR_196089  27-JAN-18    0   34   33    3    5    2    7    3    0   \n",
       "3       CR_112195  18-AUG-06    7    3    2    3    5    9    8    0    5   \n",
       "4       CR_149832  31-OCT-11    0    7    8    7    3    2    7    1    5   \n",
       "...           ...        ...  ...  ...  ...  ...  ...  ...  ...  ...  ...   \n",
       "15898    CR_44468  28-NOV-97    1   22   22    7    3   15   10    0    5   \n",
       "15899   CR_158460  09-JUN-12    0   35   30    3    5    1    0    2    3   \n",
       "15900   CR_115946  22-APR-06    0   26   27    9    0    6    4    2    6   \n",
       "15901   CR_137663  03-APR-09    0   21   23    4    1    2    7    1    6   \n",
       "15902    CR_33545  24-APR-96    0    4    4    6    5    4    2    5    6   \n",
       "\n",
       "       X_10  X_11  X_12  X_13  X_14  X_15  \n",
       "0         1   174   1.0    72   119    23  \n",
       "1         1   316   0.0    12    29    34  \n",
       "2         1   316   1.0    72     0    34  \n",
       "3         1   174   1.0   112    87    34  \n",
       "4         1   174   0.0   112    93    43  \n",
       "...     ...   ...   ...   ...   ...   ...  \n",
       "15898     1   174   0.0    72    29    43  \n",
       "15899     2     0   2.0    72    93    34  \n",
       "15900     1     0   1.0    72    62    34  \n",
       "15901     2   249   2.0    92    62    34  \n",
       "15902     1   249   1.0    72    29    34  \n",
       "\n",
       "[15903 rows x 17 columns]>"
      ]
     },
     "execution_count": 309,
     "metadata": {},
     "output_type": "execute_result"
    }
   ],
   "source": [
    "test_data.describe"
   ]
  },
  {
   "cell_type": "code",
   "execution_count": 306,
   "metadata": {},
   "outputs": [
    {
     "name": "stdout",
     "output_type": "stream",
     "text": [
      "   X_1  X_2  X_3  X_4  X_5  X_6  X_7  X_8  X_9  X_10  X_11  X_12  X_13  X_14  \\\n",
      "0    0    4    4    6    5    1    0    1    5     1   174   1.0   103    29   \n",
      "\n",
      "   X_15  \n",
      "0    34  \n"
     ]
    }
   ],
   "source": [
    "print(sorted_data.loc[:,'X_1':'X_15'].mode())\n",
    "\n",
    "#filling NaN values\n",
    "test_data.loc[:,'X_1':'X_15'] = test_data.loc[:,'X_1':'X_15'].fillna(sorted_data.loc[:,'X_1':'X_15'].mode())\n",
    "test_data.head()\n",
    "\n",
    "X_Test = test_data.loc[:,'X_1':'X_15']"
   ]
  },
  {
   "cell_type": "code",
   "execution_count": 308,
   "metadata": {},
   "outputs": [
    {
     "name": "stdout",
     "output_type": "stream",
     "text": [
      "test_x1_feature_responseCoding is converted feature using respone coding method. The shape of feature: (15903, 2)\n"
     ]
    }
   ],
   "source": [
    "#Getting response coded vectors\n",
    "\n",
    "Test_x1_feature_responseCoding = np.array(get_xi_feature(alpha, \"X_1\", X_Test))\n",
    "\n",
    "Test_x2_feature_responseCoding = np.array(get_xi_feature(alpha, \"X_2\", X_Test))\n",
    "\n",
    "Test_x3_feature_responseCoding = np.array(get_xi_feature(alpha, \"X_3\", X_Test))\n",
    "\n",
    "Test_x4_feature_responseCoding = np.array(get_xi_feature(alpha, \"X_4\", X_Test))\n",
    "\n",
    "Test_x5_feature_responseCoding = np.array(get_xi_feature(alpha, \"X_5\", X_Test))\n",
    "\n",
    "Test_x6_feature_responseCoding = np.array(get_xi_feature(alpha, \"X_6\", X_Test))\n",
    "\n",
    "Test_x7_feature_responseCoding = np.array(get_xi_feature(alpha, \"X_7\", X_Test))\n",
    "\n",
    "Test_x8_feature_responseCoding = np.array(get_xi_feature(alpha, \"X_8\", X_Test))\n",
    "\n",
    "Test_x9_feature_responseCoding = np.array(get_xi_feature(alpha, \"X_9\", X_Test))\n",
    "\n",
    "Test_x10_feature_responseCoding = np.array(get_xi_feature(alpha, \"X_10\", X_Test))\n",
    "\n",
    "Test_x11_feature_responseCoding = np.array(get_xi_feature(alpha, \"X_11\", X_Test))\n",
    "\n",
    "Test_x12_feature_responseCoding = np.array(get_xi_feature(alpha, \"X_12\", X_Test))\n",
    "\n",
    "Test_x13_feature_responseCoding = np.array(get_xi_feature(alpha, \"X_13\", X_Test))\n",
    "\n",
    "Test_x14_feature_responseCoding = np.array(get_xi_feature(alpha, \"X_14\", X_Test))\n",
    "\n",
    "Test_x15_feature_responseCoding = np.array(get_xi_feature(alpha, \"X_15\", X_Test))\n",
    "\n",
    "\n",
    "print(\"test_x1_feature_responseCoding is converted feature using respone coding method. The shape of feature:\", Test_x1_feature_responseCoding.shape)"
   ]
  },
  {
   "cell_type": "code",
   "execution_count": 310,
   "metadata": {},
   "outputs": [
    {
     "name": "stdout",
     "output_type": "stream",
     "text": [
      "Test_features_responseCoding is converted feature using respone coding method. The shape of feature: (15903, 30)\n"
     ]
    }
   ],
   "source": [
    "Test_features_responseCoding =  np.concatenate((Test_x1_feature_responseCoding,Test_x2_feature_responseCoding,Test_x3_feature_responseCoding,Test_x4_feature_responseCoding,Test_x5_feature_responseCoding,Test_x6_feature_responseCoding,Test_x7_feature_responseCoding,Test_x8_feature_responseCoding,Test_x9_feature_responseCoding,Test_x10_feature_responseCoding,Test_x11_feature_responseCoding,Test_x12_feature_responseCoding,Test_x13_feature_responseCoding,Test_x14_feature_responseCoding,Test_x15_feature_responseCoding),axis=-1)\n",
    "print(\"Test_features_responseCoding is converted feature using respone coding method. The shape of feature:\", Test_features_responseCoding.shape)"
   ]
  },
  {
   "cell_type": "code",
   "execution_count": 311,
   "metadata": {},
   "outputs": [],
   "source": [
    "X_Testf = X_Test.to_numpy().astype(int)\n",
    "X_Test_rc = np.concatenate((X_Testf,Test_features_responseCoding),axis=-1)"
   ]
  },
  {
   "cell_type": "code",
   "execution_count": 316,
   "metadata": {},
   "outputs": [],
   "source": [
    "X_Test_rc_std = Scaler.transform(X_Test_rc)"
   ]
  },
  {
   "cell_type": "code",
   "execution_count": 345,
   "metadata": {},
   "outputs": [
    {
     "name": "stdout",
     "output_type": "stream",
     "text": [
      "<class 'numpy.ndarray'>\n",
      "15903\n",
      "<class 'list'>\n",
      "15903\n",
      "<class 'pandas.core.frame.DataFrame'>\n",
      "  INCIDENT_ID  MULTIPLE_OFFENSE\n",
      "0   CR_195453                 1\n",
      "1   CR_103520                 1\n",
      "2   CR_196089                 1\n",
      "3   CR_112195                 1\n",
      "4   CR_149832                 1\n"
     ]
    }
   ],
   "source": [
    "y_pred = knn.predict(X_Test_rc_std)\n",
    "print(type(y_pred))\n",
    "print(len(y_pred))\n",
    "y_pred = y_pred.tolist()\n",
    "\n",
    "print(type(y_pred))\n",
    "print(len(y_pred))\n",
    "\n",
    "results = test_data[['INCIDENT_ID']]\n",
    "print(type(results))\n",
    "\n",
    "results['MULTIPLE_OFFENSE'] = y_pred \n",
    "#How our final submission files look like!\n",
    "print(results.head())\n",
    "\n",
    "results.to_csv(\"Results_knn2.csv\",index=False)\n"
   ]
  },
  {
   "cell_type": "code",
   "execution_count": 347,
   "metadata": {},
   "outputs": [
    {
     "name": "stdout",
     "output_type": "stream",
     "text": [
      "\n",
      "The optimal value of k is 41.000000.\n"
     ]
    },
    {
     "data": {
      "image/png": "[encoded data removed]",
      "text/plain": [
       "<Figure size 1152x576 with 1 Axes>"
      ]
     },
     "metadata": {},
     "output_type": "display_data"
    },
    {
     "name": "stdout",
     "output_type": "stream",
     "text": [
      "the AUC score for each k value is :  [0.998 0.999 0.999 1.    1.    1.    1.    1.    1.    1.    1.    1.\n",
      " 1.   ]\n",
      "\n",
      "The Recall score of the KNN classifier for k = 41.000000 is 100.000000%\n"
     ]
    },
    {
     "data": {
      "image/png": "[encoded data removed]",
      "text/plain": [
       "<Figure size 1440x288 with 6 Axes>"
      ]
     },
     "metadata": {},
     "output_type": "display_data"
    }
   ],
   "source": [
    "## Try KNN on higher dimensions(unlikely to work)\n",
    "\n",
    "Scaler = StandardScaler(copy=True, with_mean=False, with_std=True).fit(X_train_ohe_rc) \n",
    "X_train_ohe_rc_std = Scaler.transform(X_train_ohe_rc)\n",
    "X_test_ohe_rc_std = Scaler.transform(X_test_ohe_rc) \n",
    "\n",
    "opt_k = find_optimal_k(X_train_rc_std,y_train,5,'brute')\n",
    "\n",
    "knn = KNeighborsClassifier(n_neighbors=opt_k,weights='distance',algorithm='brute',n_jobs=4)\n",
    "\n",
    "# fitting the model\n",
    "knn.fit(X_train_ohe_rc_std, y_train)\n",
    "\n",
    "# predict the response\n",
    "prob = knn.predict_proba(X_test_ohe_rc_std)[:,1]\n",
    "\n",
    "pred = knn.predict(X_test_ohe_rc_std)\n",
    "# evaluate accuracy\n",
    "recall = recall_score(y_test, pred) * 100\n",
    "print('\\nThe Recall score of the KNN classifier for k = %f is %f%%' % (opt_k, recall))\n",
    "\n",
    "plot_confusion_matrix(y_test,pred)"
   ]
  },
  {
   "cell_type": "code",
   "execution_count": 356,
   "metadata": {},
   "outputs": [
    {
     "name": "stdout",
     "output_type": "stream",
     "text": [
      "The percentage of missing values is: 0.0 % \n",
      "After converting Test data into higher dimensions,shape is:  (15903, 554)\n"
     ]
    }
   ],
   "source": [
    "##perform one hot encoding on test data\n",
    "for column in X_Test.columns:\n",
    "    X_Test[column].fillna(X_Test[column].mode()[0], inplace=True)\n",
    "    \n",
    "# X_Test = X_Test.fillna(X_Test.loc[:,'X_1':'X_15'].mode())\n",
    "print(\"The percentage of missing values is: {} % \".format(((len(X_Test)-X_Test.count()).sum()*100/len(X_Test)).round(3)))\n",
    "X_Test = X_Test.astype(int)\n",
    "X_Test_ohe = ohe.transform(X_Test).toarray()\n",
    "\n",
    "X_Test_ohe_rc = np.concatenate((X_Test_rc,X_Test_ohe),axis=-1)\n",
    "print(\"After converting Test data into higher dimensions,shape is: \",X_Test_ohe_rc.shape)"
   ]
  },
  {
   "cell_type": "markdown",
   "metadata": {},
   "source": [
    "## Perform Naive Bayes and Logistic Regression on Higher Dimensional data"
   ]
  },
  {
   "cell_type": "code",
   "execution_count": 362,
   "metadata": {},
   "outputs": [],
   "source": [
    "def find_optimal_alpha(x,y,n):\n",
    "    # creating a list of alpha for NB\n",
    "    alpha_list = [0.000001,0.000001,0.00001,.0001,.001,.01,.1,1,10,100]\n",
    "    tuned_parameters = [{'alpha': alpha_list}]\n",
    "    model = GridSearchCV(MultinomialNB(fit_prior=False), tuned_parameters, scoring = 'roc_auc',n_jobs=-1, cv=n,return_train_score = True)\n",
    "    model.fit(x,y)\n",
    "        \n",
    "    train_scores = model.cv_results_['mean_train_score']\n",
    "    cv_scores = model.cv_results_['mean_test_score']    \n",
    "    \n",
    "    optimal_alpha = alpha_list[np.argmax(cv_scores)]\n",
    "    print('\\nThe optimal value of alpha is %f.' % optimal_alpha)\n",
    "    #taking log of the values for graph to maintain the scale\n",
    "    plt.figure(figsize=(16,8))\n",
    "\n",
    "    plt.plot(alpha_list, cv_scores,label='CV_plot for alpha')\n",
    "    plt.plot(alpha_list, train_scores,label= 'Train_plot for alpha')\n",
    "\n",
    "    for xy in zip(alpha_list, np.round(cv_scores,3)):\n",
    "        plt.annotate('(%s, %s)' % xy, xy=xy, textcoords='data')\n",
    "\n",
    "    for xy in zip(alpha_list, np.round(train_scores,3)):\n",
    "        plt.annotate('(%s, %s)' % xy, xy=xy, textcoords='data')\n",
    "\n",
    "    plt.xlabel('Value of Alpha ')\n",
    "    plt.ylabel('ROC Score')\n",
    "    plt.legend()\n",
    "    plt.show()\n",
    "\n",
    "    print(\"the AUC score for each Alpha value is : \", np.round(cv_scores,3))\n",
    "\n",
    "    return optimal_alpha\n"
   ]
  },
  {
   "cell_type": "code",
   "execution_count": 364,
   "metadata": {},
   "outputs": [
    {
     "name": "stdout",
     "output_type": "stream",
     "text": [
      "\n",
      "The optimal value of alpha is 0.000001.\n"
     ]
    },
    {
     "data": {
      "image/png": "[encoded data removed]",
      "text/plain": [
       "<Figure size 1152x576 with 1 Axes>"
      ]
     },
     "metadata": {},
     "output_type": "display_data"
    },
    {
     "name": "stdout",
     "output_type": "stream",
     "text": [
      "the AUC score for each Alpha value is :  [0.98  0.98  0.974 0.965 0.953 0.939 0.921 0.899 0.868 0.593]\n",
      "\n",
      "The ROC_AUC score of the NB classifier for alpha = 0.000001 is 97.621183%\n"
     ]
    }
   ],
   "source": [
    "opt_alpha = find_optimal_alpha(X_train_ohe_rc,y_train,5)\n",
    "\n",
    "NB_optimal = MultinomialNB(alpha=opt_alpha, fit_prior=False)\n",
    "\n",
    "# fitting the model\n",
    "NB_optimal.fit(X_train_ohe_rc, y_train)\n",
    "\n",
    "# predict the response\n",
    "prob = NB_optimal.predict_proba(X_test_ohe_rc)[:,1]\n",
    "\n",
    "pred = NB_optimal.predict(X_test_ohe_rc)\n",
    "# evaluate accuracy\n",
    "roc = roc_auc_score(y_test, prob) * 100\n",
    "print('\\nThe ROC_AUC score of the NB classifier for alpha = %f is %f%%' % (opt_alpha, roc))\n"
   ]
  },
  {
   "cell_type": "code",
   "execution_count": 365,
   "metadata": {},
   "outputs": [
    {
     "name": "stdout",
     "output_type": "stream",
     "text": [
      "  INCIDENT_ID  MULTIPLE_OFFENSE\n",
      "0   CR_195453                 0\n",
      "1   CR_103520                 1\n",
      "2   CR_196089                 1\n",
      "3   CR_112195                 1\n",
      "4   CR_149832                 1\n"
     ]
    }
   ],
   "source": [
    "##Make prediction on the actual test data\n",
    "\n",
    "y_pred = NB_optimal.predict(X_Test_ohe_rc)\n",
    "y_pred = y_pred.tolist()\n",
    "\n",
    "results = test_data[['INCIDENT_ID']]\n",
    "results['MULTIPLE_OFFENSE'] = y_pred \n",
    "#How our final submission files look like!\n",
    "print(results.head())\n",
    "\n",
    "results.to_csv(\"Results_NB.csv\",index=False)"
   ]
  },
  {
   "cell_type": "code",
   "execution_count": 379,
   "metadata": {},
   "outputs": [],
   "source": [
    "def find_optimal_plane(x,y,k):\n",
    "    \n",
    "    pen_list = ['l1','l2','elasticnet']\n",
    "    c_grid_list = [10**-3, 10**-2,10**-1, 10**0,10**1, 10**2,10**3, 10**4,10**5]\n",
    "    l1_ratio_list = [0,.25,.5,.75,1]\n",
    "    \n",
    "    tuned_parameters = [{'C': c_grid_list,'penalty': pen_list, 'l1_ratio': l1_ratio_list}]\n",
    "    model = GridSearchCV(LogisticRegression(class_weight= 'balanced'), tuned_parameters, scoring = 'roc_auc',n_jobs=-1, cv=k)\n",
    "    \n",
    "    model.fit(x,y)\n",
    "\n",
    "    scores_mean = model.cv_results_['mean_test_score']\n",
    "    best = model.best_estimator_\n",
    "    print(\"The best model obtained from our Gridsearch is: \",best)\n",
    "    print(\"The best parameters obtained by our model is: \",model.best_params_)\n",
    "    print(\"The AUC score for our model is is: \",np.round(model.best_score_,3))\n",
    "    \n",
    "    return model\n"
   ]
  },
  {
   "cell_type": "code",
   "execution_count": 380,
   "metadata": {},
   "outputs": [
    {
     "name": "stdout",
     "output_type": "stream",
     "text": [
      "The best model obtained from our Gridsearch is:  LogisticRegression(C=0.1, class_weight='balanced', l1_ratio=0)\n",
      "The best parameters obtained by our model is:  {'C': 0.1, 'l1_ratio': 0, 'penalty': 'l2'}\n",
      "The AUC score for our model is is:  1.0\n"
     ]
    }
   ],
   "source": [
    "#find the best plane for LR\n",
    "opt_plane = find_optimal_plane(X_train_ohe_rc_std,y_train,5)"
   ]
  },
  {
   "cell_type": "code",
   "execution_count": 381,
   "metadata": {},
   "outputs": [
    {
     "name": "stdout",
     "output_type": "stream",
     "text": [
      "\n",
      "The Recall score of the LR classifier is 100.000000%\n",
      "\n",
      "The ROC_AUC score of the NB classifier for alpha = 0.000001 is 100.000000%\n"
     ]
    },
    {
     "data": {
      "image/png": "[encoded data removed]",
      "text/plain": [
       "<Figure size 1440x288 with 6 Axes>"
      ]
     },
     "metadata": {},
     "output_type": "display_data"
    }
   ],
   "source": [
    "optimal_plane = LogisticRegression(class_weight='balanced',C=0.1,penalty='l2')\n",
    "\n",
    "optimal_plane.fit(X_train_ohe_rc_std, y_train)\n",
    "prob = optimal_plane.predict_proba(X_test_ohe_rc_std)[:,1]\n",
    "\n",
    "pred = optimal_plane.predict(X_test_ohe_rc_std)\n",
    "\n",
    "# evaluate accuracy\n",
    "recall = recall_score(y_test, pred) * 100\n",
    "print('\\nThe Recall score of the LR classifier is %f%%' % (recall))\n",
    "\n",
    "# evaluate accuracy\n",
    "roc = roc_auc_score(y_test, prob) * 100\n",
    "print('\\nThe ROC_AUC score of the NB classifier for alpha = %f is %f%%' % (opt_alpha, roc))\n",
    "\n",
    "plot_confusion_matrix(y_test,pred)\n"
   ]
  },
  {
   "cell_type": "code",
   "execution_count": 376,
   "metadata": {},
   "outputs": [
    {
     "name": "stdout",
     "output_type": "stream",
     "text": [
      "The best model obtained from our Gridsearch is:  LogisticRegression(C=0.1, l1_ratio=0)\n",
      "The best parameters obtained by our model is:  {'C': 0.1, 'l1_ratio': 0, 'penalty': 'l2'}\n",
      "The AUC score for our model is is:  1.0\n"
     ]
    }
   ],
   "source": [
    "#Try without class balancing\n",
    "def find_optimal_unb_plane(x,y,k):\n",
    "    \n",
    "    pen_list = ['l1','l2','elasticnet']\n",
    "    c_grid_list = [10**-3, 10**-2,10**-1, 10**0,10**1, 10**2,10**3, 10**4,10**5]\n",
    "    l1_ratio_list = [0,.25,.5,.75,1]\n",
    "    \n",
    "    tuned_parameters = [{'C': c_grid_list,'penalty': pen_list, 'l1_ratio': l1_ratio_list}]\n",
    "    model = GridSearchCV(LogisticRegression(), tuned_parameters, scoring = 'roc_auc',n_jobs=-1, cv=k)\n",
    "    \n",
    "    model.fit(x,y)\n",
    "\n",
    "    scores_mean = model.cv_results_['mean_test_score']\n",
    "    best = model.best_estimator_\n",
    "    print(\"The best model obtained from our Gridsearch is: \",best)\n",
    "    print(\"The best parameters obtained by our model is: \",model.best_params_)\n",
    "    print(\"The AUC score for our model is is: \",np.round(model.best_score_,3))\n",
    "    \n",
    "    return model\n",
    "\n",
    "\n",
    "#find the best plane for LR \n",
    "opt_plane = find_optimal_unb_plane(X_train_ohe_rc_std,y_train,5)\n",
    "\n"
   ]
  },
  {
   "cell_type": "code",
   "execution_count": 377,
   "metadata": {},
   "outputs": [
    {
     "name": "stdout",
     "output_type": "stream",
     "text": [
      "\n",
      "The Recall score of the LR classifier is 100.000000%\n",
      "\n",
      "The ROC_AUC score of the LR classifier for is 100.000000%\n"
     ]
    },
    {
     "data": {
      "image/png": "[encoded data removed]",
      "text/plain": [
       "<Figure size 1440x288 with 6 Axes>"
      ]
     },
     "metadata": {},
     "output_type": "display_data"
    }
   ],
   "source": [
    "optimal_plane = LogisticRegression(C=0.1,penalty='l2')\n",
    "optimal_plane.fit(X_train_ohe_rc_std, y_train)\n",
    "prob = optimal_plane.predict_proba(X_test_ohe_rc_std)[:,1]\n",
    "\n",
    "pred = optimal_plane.predict(X_test_ohe_rc_std)\n",
    "\n",
    "# evaluate accuracy\n",
    "recall = recall_score(y_test, pred) * 100\n",
    "print('\\nThe Recall score of the LR classifier is %f%%' % (recall))\n",
    "\n",
    "# evaluate accuracy\n",
    "roc = roc_auc_score(y_test, prob) * 100\n",
    "print('\\nThe ROC_AUC score of the LR classifier for is %f%%' % (roc))\n",
    "\n",
    "plot_confusion_matrix(y_test,pred)"
   ]
  },
  {
   "cell_type": "code",
   "execution_count": 378,
   "metadata": {},
   "outputs": [
    {
     "name": "stdout",
     "output_type": "stream",
     "text": [
      "<class 'numpy.ndarray'>\n",
      "<class 'pandas.core.frame.DataFrame'>\n",
      "  INCIDENT_ID  MULTIPLE_OFFENSE\n",
      "0   CR_195453                 1\n",
      "1   CR_103520                 1\n",
      "2   CR_196089                 1\n",
      "3   CR_112195                 1\n",
      "4   CR_149832                 1\n"
     ]
    }
   ],
   "source": [
    "X_Test_ohe_rc_std = Scaler.transform(X_Test_ohe_rc)\n",
    "\n",
    "y_pred = optimal_plane.predict(X_Test_ohe_rc_std)\n",
    "print(type(y_pred))\n",
    "y_pred = y_pred.tolist()\n",
    "\n",
    "results = test_data[['INCIDENT_ID']]\n",
    "print(type(results))\n",
    "\n",
    "results['MULTIPLE_OFFENSE'] = y_pred \n",
    "#How our final submission files look like!\n",
    "print(results.head())\n",
    "\n",
    "results.to_csv(\"Results_LR.csv\",index=False)\n"
   ]
  },
  {
   "cell_type": "code",
   "execution_count": 382,
   "metadata": {},
   "outputs": [
    {
     "name": "stdout",
     "output_type": "stream",
     "text": [
      "The best model obtained from our Gridsearch is:  LogisticRegression(C=0.001, class_weight='balanced', l1_ratio=0)\n",
      "The best parameters obtained by our model is:  {'C': 0.001, 'l1_ratio': 0, 'penalty': 'l2'}\n",
      "The AUC score for our model is is:  1.0\n"
     ]
    }
   ],
   "source": [
    "# TRy LR on Response vectors alone(lesser dims unlikely to work)\n",
    "\n",
    "#find the best plane for LR \n",
    "opt_plane = find_optimal_plane(X_train_rc_std,y_train,5)"
   ]
  },
  {
   "cell_type": "code",
   "execution_count": 383,
   "metadata": {},
   "outputs": [
    {
     "name": "stdout",
     "output_type": "stream",
     "text": [
      "\n",
      "The Recall score of the LR classifier is 100.000000%\n",
      "\n",
      "The ROC_AUC score of the LR classifier for is 100.000000%\n"
     ]
    },
    {
     "data": {
      "image/png": "[encoded data removed]",
      "text/plain": [
       "<Figure size 1440x288 with 6 Axes>"
      ]
     },
     "metadata": {},
     "output_type": "display_data"
    }
   ],
   "source": [
    "optimal_plane = LogisticRegression(class_weight='balanced',C=0.001,penalty='l2')\n",
    "optimal_plane.fit(X_train_rc_std, y_train)\n",
    "prob = optimal_plane.predict_proba(X_test_rc_std)[:,1]\n",
    "\n",
    "pred = optimal_plane.predict(X_test_rc_std)\n",
    "\n",
    "# evaluate accuracy\n",
    "recall = recall_score(y_test, pred) * 100\n",
    "print('\\nThe Recall score of the LR classifier is %f%%' % (recall))\n",
    "\n",
    "# evaluate accuracy\n",
    "roc = roc_auc_score(y_test, prob) * 100\n",
    "print('\\nThe ROC_AUC score of the LR classifier for is %f%%' % (roc))\n",
    "\n",
    "plot_confusion_matrix(y_test,pred)"
   ]
  },
  {
   "cell_type": "code",
   "execution_count": 385,
   "metadata": {},
   "outputs": [
    {
     "name": "stdout",
     "output_type": "stream",
     "text": [
      "<class 'numpy.ndarray'>\n",
      "<class 'pandas.core.frame.DataFrame'>\n",
      "  INCIDENT_ID  MULTIPLE_OFFENSE\n",
      "0   CR_195453                 1\n",
      "1   CR_103520                 1\n",
      "2   CR_196089                 1\n",
      "3   CR_112195                 1\n",
      "4   CR_149832                 1\n"
     ]
    }
   ],
   "source": [
    "#looks very promising\n",
    "\n",
    "y_pred = optimal_plane.predict(X_Test_rc_std)\n",
    "print(type(y_pred))\n",
    "y_pred = y_pred.tolist()\n",
    "\n",
    "results = test_data[['INCIDENT_ID']]\n",
    "print(type(results))\n",
    "\n",
    "results['MULTIPLE_OFFENSE'] = y_pred \n",
    "#How our final submission files look like!\n",
    "print(results.head())\n",
    "\n",
    "results.to_csv(\"Results_LR2.csv\",index=False)\n"
   ]
  },
  {
   "cell_type": "code",
   "execution_count": 408,
   "metadata": {},
   "outputs": [
    {
     "name": "stdout",
     "output_type": "stream",
     "text": [
      "The best model obtained from our Gridsearch is:  SGDClassifier(alpha=0.1, class_weight='balanced', l1_ratio=0.25,\n",
      "              penalty='elasticnet')\n",
      "The best parameters obtained by our model is:  {'alpha': 0.1, 'l1_ratio': 0.25, 'penalty': 'elasticnet'}\n",
      "The AUC score for our model is is:  1.0\n"
     ]
    }
   ],
   "source": [
    "#USE SVMs as they work well on imbalanced data theoretically\n",
    "\n",
    "def find_optimal_plane_svm(x,y,k):\n",
    "    \n",
    "    alpha_grid_list = [10**-4,10**-3, 10**-2,10**-1, 10**0,10**1, 10**2,10**3, 10**4]\n",
    "    pen_list = ['l1','l2','elasticnet']\n",
    "    l1_ratio = [0,.25,.5,.75,1]\n",
    "    tuned_parameters = [{'alpha': alpha_grid_list,'penalty': pen_list,'l1_ratio': l1_ratio}]\n",
    "    model = GridSearchCV(SGDClassifier(class_weight='balanced',loss='hinge'), tuned_parameters, scoring = 'roc_auc',n_jobs=-1, cv=k,return_train_score = True)\n",
    "    model.fit(x,y)\n",
    "\n",
    "    scores_mean = model.cv_results_['mean_test_score']\n",
    "    best = model.best_estimator_\n",
    "    print(\"The best model obtained from our Gridsearch is: \",best)\n",
    "    print(\"The best parameters obtained by our model is: \",model.best_params_)\n",
    "    print(\"The AUC score for our model is is: \",np.round(model.best_score_,3))\n",
    "    \n",
    "    return model \n",
    "\n",
    "#find the best plane for SVM \n",
    "opt_plane = find_optimal_plane_svm(X_train_ohe_rc_std,y_train,5)\n"
   ]
  },
  {
   "cell_type": "code",
   "execution_count": 410,
   "metadata": {},
   "outputs": [
    {
     "name": "stdout",
     "output_type": "stream",
     "text": [
      "\n",
      "The Recall score of the LR classifier is 100.000000%\n"
     ]
    },
    {
     "data": {
      "image/png": "[encoded data removed]",
      "text/plain": [
       "<Figure size 1440x288 with 6 Axes>"
      ]
     },
     "metadata": {},
     "output_type": "display_data"
    }
   ],
   "source": [
    "optimal_plane = SGDClassifier(alpha=0.1, class_weight='balanced', l1_ratio=0.25,\n",
    "              penalty='elasticnet')\n",
    "\n",
    "optimal_plane.fit(X_train_rc_std, y_train)\n",
    "\n",
    "pred = optimal_plane.predict(X_test_rc_std)\n",
    "# evaluate accuracy\n",
    "recall = recall_score(y_test, pred) * 100\n",
    "print('\\nThe Recall score of the LR classifier is %f%%' % (recall))\n",
    "\n",
    "plot_confusion_matrix(y_test,pred)"
   ]
  },
  {
   "cell_type": "code",
   "execution_count": 411,
   "metadata": {},
   "outputs": [
    {
     "name": "stdout",
     "output_type": "stream",
     "text": [
      "<class 'numpy.ndarray'>\n",
      "<class 'pandas.core.frame.DataFrame'>\n",
      "  INCIDENT_ID  MULTIPLE_OFFENSE\n",
      "0   CR_195453                 1\n",
      "1   CR_103520                 1\n",
      "2   CR_196089                 1\n",
      "3   CR_112195                 1\n",
      "4   CR_149832                 1\n"
     ]
    }
   ],
   "source": [
    "#looks very promising\n",
    "\n",
    "y_pred = optimal_plane.predict(X_Test_rc_std)\n",
    "print(type(y_pred))\n",
    "y_pred = y_pred.tolist()\n",
    "\n",
    "results = test_data[['INCIDENT_ID']]\n",
    "print(type(results))\n",
    "\n",
    "results['MULTIPLE_OFFENSE'] = y_pred \n",
    "#How our final submission files look like!\n",
    "print(results.head())\n",
    "\n",
    "results.to_csv(\"Results_SVM.csv\",index=False)"
   ]
  },
  {
   "cell_type": "markdown",
   "metadata": {},
   "source": [
    "## Try powerful tree based models\n",
    "\n"
   ]
  },
  {
   "cell_type": "code",
   "execution_count": 387,
   "metadata": {},
   "outputs": [],
   "source": [
    "#function to find the optimal lambda in LR for 5 fold cross validation\n",
    "def find_optimal_forest(x,y,k):\n",
    "    \n",
    "    depth_grid_list = [4,8,12,16,20,24]\n",
    "    estimators_grid_list =  [25,50,100,150,200,250]\n",
    "    oob_bool = [True,False]\n",
    "    tuned_parameters = [{'max_depth': depth_grid_list, 'n_estimators': estimators_grid_list,'oob_score': oob_bool}]\n",
    "    model = GridSearchCV(RandomForestClassifier(class_weight='balanced'), tuned_parameters, scoring = 'roc_auc',n_jobs=-1, cv=k,return_train_score = True)\n",
    "    model.fit(x,y)\n",
    "    \n",
    "    best = model.best_estimator_\n",
    "    print(\"The best model obtained from our Gridsearch is: \",best)\n",
    "    print(\"The best parameters obtained by our model is: \",model.best_params_)\n",
    "    print(\"The AUC score for our model is is: \",np.round(model.best_score_,3))\n",
    "    \n",
    "    return model\n"
   ]
  },
  {
   "cell_type": "code",
   "execution_count": 388,
   "metadata": {},
   "outputs": [
    {
     "name": "stdout",
     "output_type": "stream",
     "text": [
      "The best model obtained from our Gridsearch is:  RandomForestClassifier(class_weight='balanced', max_depth=8, n_estimators=25)\n",
      "The best parameters obtained by our model is:  {'max_depth': 8, 'n_estimators': 25, 'oob_score': False}\n",
      "The AUC score for our model is is:  1.0\n"
     ]
    }
   ],
   "source": [
    "opt_forest = find_optimal_forest(X_train_rc_std,y_train,5)"
   ]
  },
  {
   "cell_type": "code",
   "execution_count": 415,
   "metadata": {},
   "outputs": [
    {
     "name": "stdout",
     "output_type": "stream",
     "text": [
      "\n",
      "The Recall score of the RF classifier is 100.000000%\n",
      "\n",
      "The ROC_AUC score of the RF classifier for is 100.000000%\n"
     ]
    },
    {
     "data": {
      "image/png": "[encoded data removed]",
      "text/plain": [
       "<Figure size 1440x288 with 6 Axes>"
      ]
     },
     "metadata": {},
     "output_type": "display_data"
    }
   ],
   "source": [
    "optimal_forest = RandomForestClassifier(class_weight='balanced', max_depth=8, n_estimators=25)\n",
    "\n",
    "optimal_forest.fit(X_train_rc_std, y_train)\n",
    "prob = optimal_forest.predict_proba(X_test_rc_std)[:,1]\n",
    "\n",
    "pred = optimal_forest.predict(X_test_rc_std)\n",
    "\n",
    "# evaluate accuracy\n",
    "recall = recall_score(y_test, pred) * 100\n",
    "print('\\nThe Recall score of the RF classifier is %f%%' % (recall))\n",
    "\n",
    "# evaluate accuracy\n",
    "roc = roc_auc_score(y_test, prob) * 100\n",
    "print('\\nThe ROC_AUC score of the RF classifier for is %f%%' % (roc))\n",
    "\n",
    "plot_confusion_matrix(y_test,pred)"
   ]
  },
  {
   "cell_type": "code",
   "execution_count": 416,
   "metadata": {},
   "outputs": [
    {
     "name": "stdout",
     "output_type": "stream",
     "text": [
      "<class 'numpy.ndarray'>\n",
      "<class 'pandas.core.frame.DataFrame'>\n",
      "  INCIDENT_ID  MULTIPLE_OFFENSE\n",
      "0   CR_195453                 1\n",
      "1   CR_103520                 1\n",
      "2   CR_196089                 1\n",
      "3   CR_112195                 1\n",
      "4   CR_149832                 1\n"
     ]
    }
   ],
   "source": [
    "#looks very promising\n",
    "\n",
    "y_pred = optimal_forest.predict(X_Test_rc_std)\n",
    "print(type(y_pred))\n",
    "y_pred = y_pred.tolist()\n",
    "\n",
    "results = test_data[['INCIDENT_ID']]\n",
    "print(type(results))\n",
    "\n",
    "results['MULTIPLE_OFFENSE'] = y_pred \n",
    "#How our final submission files look like!\n",
    "print(results.head())\n",
    "\n",
    "results.to_csv(\"Results_RF.csv\",index=False)\n"
   ]
  },
  {
   "cell_type": "code",
   "execution_count": 414,
   "metadata": {},
   "outputs": [
    {
     "name": "stdout",
     "output_type": "stream",
     "text": [
      "The best model obtained from our Gridsearch is:  XGBClassifier(base_score=0.5, booster=None, colsample_bylevel=1,\n",
      "              colsample_bynode=1, colsample_bytree=1, gamma=1.3340812165162041,\n",
      "              gpu_id=-1, importance_type='gain', interaction_constraints=None,\n",
      "              learning_rate=0.06799882765873583, max_delta_step=0, max_depth=14,\n",
      "              min_child_weight=1, missing=nan, monotone_constraints=None,\n",
      "              n_estimators=64, n_jobs=0, num_parallel_tree=1, random_state=0,\n",
      "              reg_alpha=0, reg_lambda=1, scale_pos_weight=0.048, subsample=1,\n",
      "              tree_method=None, validate_parameters=False, verbosity=None)\n",
      "The best parameters obtained by our model is:  {'gamma': 1.3340812165162041, 'learning_rate': 0.06799882765873583, 'max_depth': 14, 'n_estimators': 64}\n",
      "The AUC score for our model is is:  1.0\n"
     ]
    }
   ],
   "source": [
    "def find_optimal_gbdt(x,y,k,weight):\n",
    "    \n",
    "    params = {  \n",
    "    \"n_estimators\": st.randint(5, 100),\n",
    "    \"max_depth\": st.randint(2, 25),\n",
    "    \"learning_rate\": st.uniform(0, 0.25),\n",
    "    \"gamma\": st.uniform(0,5)}\n",
    "\n",
    "    model = RandomizedSearchCV(XGBClassifier(scale_pos_weight=weight), params, scoring = 'roc_auc',n_jobs=-1, cv=k,return_train_score = True)\n",
    "    model.fit(x,y)\n",
    "    \n",
    "    best = model.best_estimator_\n",
    "    print(\"The best model obtained from our Gridsearch is: \",best)\n",
    "    print(\"The best parameters obtained by our model is: \",model.best_params_)\n",
    "    print(\"The AUC score for our model is is: \",np.round(model.best_score_,3))\n",
    "    \n",
    "    return model\n",
    "\n",
    "#subtractign by 182 as all the NaN values belonged to majority class\n",
    "weight = sum(X_train['MULTIPLE_OFFENSE']==0)/(sum(X_train['MULTIPLE_OFFENSE']==1)-182)\n",
    "weight = round(weight,3)\n",
    "\n",
    "opt_gbdt = find_optimal_gbdt(X_train_rc_std,y_train,5,weight)"
   ]
  },
  {
   "cell_type": "markdown",
   "metadata": {},
   "source": [
    "## FINAL EVALUATION MODEL (to be considered for submission) : ##"
   ]
  },
  {
   "cell_type": "code",
   "execution_count": 418,
   "metadata": {},
   "outputs": [
    {
     "name": "stdout",
     "output_type": "stream",
     "text": [
      "\n",
      "The Recall score of the LR classifier is 99.955772%\n",
      "\n",
      "The ROC_AUC score of the LR classifier for is 100.000000%\n"
     ]
    },
    {
     "data": {
      "image/png": "[encoded data removed]",
      "text/plain": [
       "<Figure size 1440x288 with 6 Axes>"
      ]
     },
     "metadata": {},
     "output_type": "display_data"
    }
   ],
   "source": [
    "optimal_gbdt = XGBClassifier(base_score=0.5, booster=None, colsample_bylevel=1,\n",
    "              colsample_bynode=1, colsample_bytree=1, gamma=1.3340812165162041,\n",
    "              gpu_id=-1, importance_type='gain', interaction_constraints=None,\n",
    "              learning_rate=0.06799882765873583, max_delta_step=0, max_depth=14,\n",
    "              min_child_weight=1,  monotone_constraints=None,\n",
    "              n_estimators=64, n_jobs=0, num_parallel_tree=1, random_state=0,\n",
    "              reg_alpha=0, reg_lambda=1, scale_pos_weight=0.048, subsample=1,\n",
    "              tree_method=None, validate_parameters=False, verbosity=None)\n",
    "\n",
    "optimal_gbdt.fit(X_train_rc_std, y_train)\n",
    "prob = optimal_gbdt.predict_proba(X_test_rc_std)[:,1]\n",
    "\n",
    "pred = optimal_gbdt.predict(X_test_rc_std)\n",
    "\n",
    "# evaluate accuracy\n",
    "recall = recall_score(y_test, pred) * 100\n",
    "print('\\nThe Recall score of the LR classifier is %f%%' % (recall))\n",
    "\n",
    "# evaluate accuracy\n",
    "roc = roc_auc_score(y_test, prob) * 100\n",
    "print('\\nThe ROC_AUC score of the LR classifier for is %f%%' % (roc))\n",
    "\n",
    "plot_confusion_matrix(y_test,pred)"
   ]
  },
  {
   "cell_type": "code",
   "execution_count": 419,
   "metadata": {},
   "outputs": [
    {
     "name": "stdout",
     "output_type": "stream",
     "text": [
      "<class 'numpy.ndarray'>\n",
      "<class 'pandas.core.frame.DataFrame'>\n",
      "  INCIDENT_ID  MULTIPLE_OFFENSE\n",
      "0   CR_195453                 1\n",
      "1   CR_103520                 1\n",
      "2   CR_196089                 1\n",
      "3   CR_112195                 1\n",
      "4   CR_149832                 1\n"
     ]
    }
   ],
   "source": [
    "#looks very promising\n",
    "\n",
    "y_pred = optimal_gbdt.predict(X_Test_rc_std)\n",
    "print(type(y_pred))\n",
    "y_pred = y_pred.tolist()\n",
    "\n",
    "results = test_data[['INCIDENT_ID']]\n",
    "print(type(results))\n",
    "\n",
    "results['MULTIPLE_OFFENSE'] = y_pred \n",
    "#How our final submission files look like!\n",
    "print(results.head())\n",
    "\n",
    "results.to_csv(\"Results_GBDT.csv\",index=False)\n"
   ]
  },
  {
   "cell_type": "markdown",
   "metadata": {},
   "source": [
    "## CONCLUSIONS :\n",
    "\n",
    "    1. The dataset was relatively low dimensional, with anonymized variables which were categorical in nature.\n",
    "    2. We tried a bunch of featurizations such as Response Coding(with smoothing),One hot encoding among others.\n",
    "    3. Since the dates were available, we tried temporal splitting, by correcting the dates into right format. But since test file was already available, it was seen that test data wasn't based on time, However time based slicing could help in future unseen data which we do not know about.\n",
    "    4. We started with simple models such as KNN, linear models and then proceeded with complex models. \n",
    "    5. Almost all models performed well on lower dimensions, interestingly even linear models such as LR did not perform upto the mark on higher dimensions. This shows that OHE was not a good choice of featurization as opposed to Response Coding.\n",
    "    6. As expected, powerful models such as RF and GBDT with tuning outperformed all other models. Even though GBDT had a slight error in our test split, it generalized better than RF model on the Test file that was provided to us without the class labels.\n",
    "    7. We had reserved a small subset of data(10%) for us to check the performance on unseen data, but this also comes with a flip side as model could be even more powerful with more train data ! \n",
    "    8. Although all models are present in the notebook, I request the team to consider the final GBDT model for submission and the file generated by it on (cell 419) for evaluation. "
   ]
  }
 ],
 "metadata": {
  "kernelspec": {
   "display_name": "Python 3",
   "language": "python",
   "name": "python3"
  },
  "language_info": {
   "codemirror_mode": {
    "name": "ipython",
    "version": 3
   },
   "file_extension": ".py",
   "mimetype": "text/x-python",
   "name": "python",
   "nbconvert_exporter": "python",
   "pygments_lexer": "ipython3",
   "version": "3.6.4"
  }
 },
 "nbformat": 4,
 "nbformat_minor": 2
}
